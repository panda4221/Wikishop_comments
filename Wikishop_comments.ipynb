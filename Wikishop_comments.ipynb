{
 "cells": [
  {
   "cell_type": "markdown",
   "id": "fa74db4a",
   "metadata": {},
   "source": [
    "# Проект для «Викишоп» с BERT"
   ]
  },
  {
   "cell_type": "markdown",
   "id": "8b19026d",
   "metadata": {},
   "source": [
    "**Описание задачи**\n",
    "\n",
    "Интернет-магазин «Викишоп» запускает новый сервис. Теперь пользователи могут редактировать и дополнять описания товаров, как в вики-сообществах. То есть клиенты предлагают свои правки и комментируют изменения других. Магазину нужен инструмент, который будет искать токсичные комментарии и отправлять их на модерацию. \n",
    "\n",
    "Обучите модель классифицировать комментарии на позитивные и негативные. В вашем распоряжении набор данных с разметкой о токсичности правок.\n",
    "\n",
    "Постройте модель со значением метрики качества *F1* не меньше 0.75. \n",
    "\n",
    "**Инструкция по выполнению проекта**\n",
    "\n",
    "1. Загрузите и подготовьте данные.\n",
    "2. Обучите разные модели. \n",
    "3. Сделайте выводы.\n",
    "\n",
    "Для выполнения проекта применять *BERT* необязательно, но вы можете попробовать.\n",
    "\n",
    "**Описание данных**\n",
    "\n",
    "Данные находятся в файле `toxic_comments.csv`. Столбец *text* в нём содержит текст комментария, а *toxic* — целевой признак."
   ]
  },
  {
   "cell_type": "markdown",
   "id": "4a17115b",
   "metadata": {
    "id": "4a17115b"
   },
   "source": [
    "## 1. Загрузка данных"
   ]
  },
  {
   "cell_type": "markdown",
   "id": "25801d42",
   "metadata": {},
   "source": [
    "Для начала загрузим и импортируем необходимые для дальнейшей работы библиотеки."
   ]
  },
  {
   "cell_type": "code",
   "execution_count": 1,
   "id": "TWnQKGHa1pNF",
   "metadata": {
    "colab": {
     "base_uri": "https://localhost:8080/"
    },
    "executionInfo": {
     "elapsed": 5967,
     "status": "ok",
     "timestamp": 1699335802833,
     "user": {
      "displayName": "Юлия Л.",
      "userId": "01831128222437638053"
     },
     "user_tz": -180
    },
    "id": "TWnQKGHa1pNF",
    "outputId": "d1728c4b-7767-4c8b-b634-632d5ff88115"
   },
   "outputs": [
    {
     "name": "stdout",
     "output_type": "stream",
     "text": [
      "Requirement already satisfied: catboost in c:\\users\\y.a.levina\\anaconda3\\lib\\site-packages (1.2)\n",
      "Requirement already satisfied: six in c:\\users\\y.a.levina\\anaconda3\\lib\\site-packages (from catboost) (1.16.0)\n",
      "Requirement already satisfied: scipy in c:\\users\\y.a.levina\\anaconda3\\lib\\site-packages (from catboost) (1.7.3)\n",
      "Requirement already satisfied: numpy>=1.16.0 in c:\\users\\y.a.levina\\anaconda3\\lib\\site-packages (from catboost) (1.21.6)\n",
      "Requirement already satisfied: plotly in c:\\users\\y.a.levina\\anaconda3\\lib\\site-packages (from catboost) (5.6.0)\n",
      "Requirement already satisfied: pandas>=0.24 in c:\\users\\y.a.levina\\anaconda3\\lib\\site-packages (from catboost) (1.4.2)\n",
      "Requirement already satisfied: matplotlib in c:\\users\\y.a.levina\\anaconda3\\lib\\site-packages (from catboost) (3.5.1)\n",
      "Requirement already satisfied: graphviz in c:\\users\\y.a.levina\\anaconda3\\lib\\site-packages (from catboost) (0.20.1)\n",
      "Requirement already satisfied: pytz>=2020.1 in c:\\users\\y.a.levina\\anaconda3\\lib\\site-packages (from pandas>=0.24->catboost) (2021.3)\n",
      "Requirement already satisfied: python-dateutil>=2.8.1 in c:\\users\\y.a.levina\\anaconda3\\lib\\site-packages (from pandas>=0.24->catboost) (2.8.2)\n",
      "Requirement already satisfied: pillow>=6.2.0 in c:\\users\\y.a.levina\\anaconda3\\lib\\site-packages (from matplotlib->catboost) (9.0.1)\n",
      "Requirement already satisfied: cycler>=0.10 in c:\\users\\y.a.levina\\anaconda3\\lib\\site-packages (from matplotlib->catboost) (0.11.0)\n",
      "Requirement already satisfied: pyparsing>=2.2.1 in c:\\users\\y.a.levina\\anaconda3\\lib\\site-packages (from matplotlib->catboost) (3.0.4)\n",
      "Requirement already satisfied: fonttools>=4.22.0 in c:\\users\\y.a.levina\\anaconda3\\lib\\site-packages (from matplotlib->catboost) (4.25.0)\n",
      "Requirement already satisfied: kiwisolver>=1.0.1 in c:\\users\\y.a.levina\\anaconda3\\lib\\site-packages (from matplotlib->catboost) (1.3.2)\n",
      "Requirement already satisfied: packaging>=20.0 in c:\\users\\y.a.levina\\anaconda3\\lib\\site-packages (from matplotlib->catboost) (21.3)\n",
      "Requirement already satisfied: tenacity>=6.2.0 in c:\\users\\y.a.levina\\anaconda3\\lib\\site-packages (from plotly->catboost) (8.0.1)\n"
     ]
    }
   ],
   "source": [
    "!pip install catboost"
   ]
  },
  {
   "cell_type": "code",
   "execution_count": 30,
   "id": "At2ZFLZc2KUv",
   "metadata": {
    "colab": {
     "base_uri": "https://localhost:8080/"
    },
    "executionInfo": {
     "elapsed": 13994,
     "status": "ok",
     "timestamp": 1699336203731,
     "user": {
      "displayName": "Юлия Л.",
      "userId": "01831128222437638053"
     },
     "user_tz": -180
    },
    "id": "At2ZFLZc2KUv",
    "outputId": "f5bd8bdc-73b5-43f4-c8c2-e24bd8575007"
   },
   "outputs": [
    {
     "name": "stdout",
     "output_type": "stream",
     "text": [
      "Requirement already satisfied: detoxify in c:\\users\\y.a.levina\\anaconda3\\lib\\site-packages (0.5.1)\n",
      "Requirement already satisfied: transformers==4.22.1 in c:\\users\\y.a.levina\\anaconda3\\lib\\site-packages (from detoxify) (4.22.1)\n",
      "Requirement already satisfied: sentencepiece>=0.1.94 in c:\\users\\y.a.levina\\anaconda3\\lib\\site-packages (from detoxify) (0.1.99)\n",
      "Requirement already satisfied: torch>=1.7.0 in c:\\users\\y.a.levina\\anaconda3\\lib\\site-packages (from detoxify) (2.1.0)\n",
      "Requirement already satisfied: numpy>=1.17 in c:\\users\\y.a.levina\\anaconda3\\lib\\site-packages (from transformers==4.22.1->detoxify) (1.21.6)\n",
      "Requirement already satisfied: filelock in c:\\users\\y.a.levina\\anaconda3\\lib\\site-packages (from transformers==4.22.1->detoxify) (3.6.0)\n",
      "Requirement already satisfied: pyyaml>=5.1 in c:\\users\\y.a.levina\\anaconda3\\lib\\site-packages (from transformers==4.22.1->detoxify) (6.0)\n",
      "Requirement already satisfied: tqdm>=4.27 in c:\\users\\y.a.levina\\anaconda3\\lib\\site-packages (from transformers==4.22.1->detoxify) (4.64.0)\n",
      "Requirement already satisfied: regex!=2019.12.17 in c:\\users\\y.a.levina\\anaconda3\\lib\\site-packages (from transformers==4.22.1->detoxify) (2022.3.15)\n",
      "Requirement already satisfied: requests in c:\\users\\y.a.levina\\anaconda3\\lib\\site-packages (from transformers==4.22.1->detoxify) (2.27.1)\n",
      "Requirement already satisfied: huggingface-hub<1.0,>=0.9.0 in c:\\users\\y.a.levina\\anaconda3\\lib\\site-packages (from transformers==4.22.1->detoxify) (0.18.0)\n",
      "Requirement already satisfied: packaging>=20.0 in c:\\users\\y.a.levina\\anaconda3\\lib\\site-packages (from transformers==4.22.1->detoxify) (21.3)\n",
      "Requirement already satisfied: tokenizers!=0.11.3,<0.13,>=0.11.1 in c:\\users\\y.a.levina\\anaconda3\\lib\\site-packages (from transformers==4.22.1->detoxify) (0.12.1)\n",
      "Requirement already satisfied: fsspec>=2023.5.0 in c:\\users\\y.a.levina\\anaconda3\\lib\\site-packages (from huggingface-hub<1.0,>=0.9.0->transformers==4.22.1->detoxify) (2023.10.0)\n",
      "Requirement already satisfied: typing-extensions>=3.7.4.3 in c:\\users\\y.a.levina\\anaconda3\\lib\\site-packages (from huggingface-hub<1.0,>=0.9.0->transformers==4.22.1->detoxify) (4.1.1)\n",
      "Requirement already satisfied: pyparsing!=3.0.5,>=2.0.2 in c:\\users\\y.a.levina\\anaconda3\\lib\\site-packages (from packaging>=20.0->transformers==4.22.1->detoxify) (3.0.4)\n",
      "Requirement already satisfied: networkx in c:\\users\\y.a.levina\\anaconda3\\lib\\site-packages (from torch>=1.7.0->detoxify) (2.7.1)\n",
      "Requirement already satisfied: sympy in c:\\users\\y.a.levina\\anaconda3\\lib\\site-packages (from torch>=1.7.0->detoxify) (1.10.1)\n",
      "Requirement already satisfied: jinja2 in c:\\users\\y.a.levina\\anaconda3\\lib\\site-packages (from torch>=1.7.0->detoxify) (3.1.2)\n",
      "Requirement already satisfied: colorama in c:\\users\\y.a.levina\\anaconda3\\lib\\site-packages (from tqdm>=4.27->transformers==4.22.1->detoxify) (0.4.4)\n",
      "Requirement already satisfied: MarkupSafe>=2.0 in c:\\users\\y.a.levina\\anaconda3\\lib\\site-packages (from jinja2->torch>=1.7.0->detoxify) (2.1.3)\n",
      "Requirement already satisfied: certifi>=2017.4.17 in c:\\users\\y.a.levina\\anaconda3\\lib\\site-packages (from requests->transformers==4.22.1->detoxify) (2021.10.8)\n",
      "Requirement already satisfied: idna<4,>=2.5 in c:\\users\\y.a.levina\\anaconda3\\lib\\site-packages (from requests->transformers==4.22.1->detoxify) (3.3)\n",
      "Requirement already satisfied: urllib3<1.27,>=1.21.1 in c:\\users\\y.a.levina\\anaconda3\\lib\\site-packages (from requests->transformers==4.22.1->detoxify) (1.26.9)\n",
      "Requirement already satisfied: charset-normalizer~=2.0.0 in c:\\users\\y.a.levina\\anaconda3\\lib\\site-packages (from requests->transformers==4.22.1->detoxify) (2.0.4)\n",
      "Requirement already satisfied: mpmath>=0.19 in c:\\users\\y.a.levina\\anaconda3\\lib\\site-packages (from sympy->torch>=1.7.0->detoxify) (1.2.1)\n"
     ]
    }
   ],
   "source": [
    "!pip install detoxify"
   ]
  },
  {
   "cell_type": "code",
   "execution_count": 63,
   "id": "87de09d1",
   "metadata": {
    "colab": {
     "base_uri": "https://localhost:8080/"
    },
    "executionInfo": {
     "elapsed": 15,
     "status": "ok",
     "timestamp": 1699335802834,
     "user": {
      "displayName": "Юлия Л.",
      "userId": "01831128222437638053"
     },
     "user_tz": -180
    },
    "id": "87de09d1",
    "outputId": "5b9b4cc0-2e25-46cf-ece4-d8a8aa78c4d9"
   },
   "outputs": [
    {
     "name": "stderr",
     "output_type": "stream",
     "text": [
      "[nltk_data] Downloading package stopwords to\n",
      "[nltk_data]     C:\\Users\\y.a.levina\\AppData\\Roaming\\nltk_data...\n",
      "[nltk_data]   Package stopwords is already up-to-date!\n",
      "[nltk_data] Downloading package wordnet to\n",
      "[nltk_data]     C:\\Users\\y.a.levina\\AppData\\Roaming\\nltk_data...\n",
      "[nltk_data]   Package wordnet is already up-to-date!\n",
      "[nltk_data] Downloading package omw-1.4 to\n",
      "[nltk_data]     C:\\Users\\y.a.levina\\AppData\\Roaming\\nltk_data...\n",
      "[nltk_data]   Package omw-1.4 is already up-to-date!\n"
     ]
    }
   ],
   "source": [
    "import pandas as pd\n",
    "import re\n",
    "import numpy as np\n",
    "import matplotlib.pyplot as plt\n",
    "from tqdm import tqdm\n",
    "tqdm.pandas()\n",
    "from catboost import CatBoostClassifier\n",
    "import nltk\n",
    "nltk.download('stopwords')\n",
    "nltk.download('wordnet')\n",
    "nltk.download('omw-1.4')\n",
    "from nltk.stem import WordNetLemmatizer\n",
    "from nltk.corpus import stopwords as nltk_stopwords\n",
    "from sklearn.feature_extraction.text import TfidfVectorizer\n",
    "from sklearn.linear_model import LogisticRegression\n",
    "from sklearn.metrics import f1_score\n",
    "from sklearn.model_selection import train_test_split\n",
    "import warnings\n",
    "warnings.filterwarnings('ignore')\n",
    "from nltk.corpus import stopwords as nltk_stopwords\n",
    "from scipy import sparse\n",
    "import time\n",
    "from detoxify import Detoxify"
   ]
  },
  {
   "cell_type": "markdown",
   "id": "98cf0a22",
   "metadata": {},
   "source": [
    "Данные с комментариями и метками токсичности находятся в файле `toxic_comments.csv`, загрузим его содержимое."
   ]
  },
  {
   "cell_type": "code",
   "execution_count": 3,
   "id": "d074b566",
   "metadata": {
    "colab": {
     "base_uri": "https://localhost:8080/",
     "height": 424
    },
    "executionInfo": {
     "elapsed": 6990,
     "status": "ok",
     "timestamp": 1699335809814,
     "user": {
      "displayName": "Юлия Л.",
      "userId": "01831128222437638053"
     },
     "user_tz": -180
    },
    "id": "d074b566",
    "outputId": "0731b044-f8cb-4fa0-ef57-cf67b934c05f"
   },
   "outputs": [
    {
     "data": {
      "text/html": [
       "<div>\n",
       "<style scoped>\n",
       "    .dataframe tbody tr th:only-of-type {\n",
       "        vertical-align: middle;\n",
       "    }\n",
       "\n",
       "    .dataframe tbody tr th {\n",
       "        vertical-align: top;\n",
       "    }\n",
       "\n",
       "    .dataframe thead th {\n",
       "        text-align: right;\n",
       "    }\n",
       "</style>\n",
       "<table border=\"1\" class=\"dataframe\">\n",
       "  <thead>\n",
       "    <tr style=\"text-align: right;\">\n",
       "      <th></th>\n",
       "      <th>Unnamed: 0</th>\n",
       "      <th>text</th>\n",
       "      <th>toxic</th>\n",
       "    </tr>\n",
       "  </thead>\n",
       "  <tbody>\n",
       "    <tr>\n",
       "      <th>0</th>\n",
       "      <td>0</td>\n",
       "      <td>Explanation\\nWhy the edits made under my usern...</td>\n",
       "      <td>0</td>\n",
       "    </tr>\n",
       "    <tr>\n",
       "      <th>1</th>\n",
       "      <td>1</td>\n",
       "      <td>D'aww! He matches this background colour I'm s...</td>\n",
       "      <td>0</td>\n",
       "    </tr>\n",
       "    <tr>\n",
       "      <th>2</th>\n",
       "      <td>2</td>\n",
       "      <td>Hey man, I'm really not trying to edit war. It...</td>\n",
       "      <td>0</td>\n",
       "    </tr>\n",
       "    <tr>\n",
       "      <th>3</th>\n",
       "      <td>3</td>\n",
       "      <td>\"\\nMore\\nI can't make any real suggestions on ...</td>\n",
       "      <td>0</td>\n",
       "    </tr>\n",
       "    <tr>\n",
       "      <th>4</th>\n",
       "      <td>4</td>\n",
       "      <td>You, sir, are my hero. Any chance you remember...</td>\n",
       "      <td>0</td>\n",
       "    </tr>\n",
       "    <tr>\n",
       "      <th>...</th>\n",
       "      <td>...</td>\n",
       "      <td>...</td>\n",
       "      <td>...</td>\n",
       "    </tr>\n",
       "    <tr>\n",
       "      <th>159287</th>\n",
       "      <td>159446</td>\n",
       "      <td>\":::::And for the second time of asking, when ...</td>\n",
       "      <td>0</td>\n",
       "    </tr>\n",
       "    <tr>\n",
       "      <th>159288</th>\n",
       "      <td>159447</td>\n",
       "      <td>You should be ashamed of yourself \\n\\nThat is ...</td>\n",
       "      <td>0</td>\n",
       "    </tr>\n",
       "    <tr>\n",
       "      <th>159289</th>\n",
       "      <td>159448</td>\n",
       "      <td>Spitzer \\n\\nUmm, theres no actual article for ...</td>\n",
       "      <td>0</td>\n",
       "    </tr>\n",
       "    <tr>\n",
       "      <th>159290</th>\n",
       "      <td>159449</td>\n",
       "      <td>And it looks like it was actually you who put ...</td>\n",
       "      <td>0</td>\n",
       "    </tr>\n",
       "    <tr>\n",
       "      <th>159291</th>\n",
       "      <td>159450</td>\n",
       "      <td>\"\\nAnd ... I really don't think you understand...</td>\n",
       "      <td>0</td>\n",
       "    </tr>\n",
       "  </tbody>\n",
       "</table>\n",
       "<p>159292 rows × 3 columns</p>\n",
       "</div>"
      ],
      "text/plain": [
       "        Unnamed: 0                                               text  toxic\n",
       "0                0  Explanation\\nWhy the edits made under my usern...      0\n",
       "1                1  D'aww! He matches this background colour I'm s...      0\n",
       "2                2  Hey man, I'm really not trying to edit war. It...      0\n",
       "3                3  \"\\nMore\\nI can't make any real suggestions on ...      0\n",
       "4                4  You, sir, are my hero. Any chance you remember...      0\n",
       "...            ...                                                ...    ...\n",
       "159287      159446  \":::::And for the second time of asking, when ...      0\n",
       "159288      159447  You should be ashamed of yourself \\n\\nThat is ...      0\n",
       "159289      159448  Spitzer \\n\\nUmm, theres no actual article for ...      0\n",
       "159290      159449  And it looks like it was actually you who put ...      0\n",
       "159291      159450  \"\\nAnd ... I really don't think you understand...      0\n",
       "\n",
       "[159292 rows x 3 columns]"
      ]
     },
     "execution_count": 3,
     "metadata": {},
     "output_type": "execute_result"
    }
   ],
   "source": [
    "df = pd.read_csv('https://code.s3.yandex.net/datasets/toxic_comments.csv')\n",
    "df"
   ]
  },
  {
   "cell_type": "markdown",
   "id": "c0d941b7",
   "metadata": {},
   "source": [
    "Мы сразу видим лишнюю колонку `Unnamed: 0`, не несущую в себе никакой информации, избавимся от нее."
   ]
  },
  {
   "cell_type": "code",
   "execution_count": 4,
   "id": "477e50fb",
   "metadata": {
    "colab": {
     "base_uri": "https://localhost:8080/",
     "height": 424
    },
    "executionInfo": {
     "elapsed": 49,
     "status": "ok",
     "timestamp": 1699335809815,
     "user": {
      "displayName": "Юлия Л.",
      "userId": "01831128222437638053"
     },
     "user_tz": -180
    },
    "id": "477e50fb",
    "outputId": "2a3ddc3b-7f01-4bab-c915-731c6472f6c0"
   },
   "outputs": [
    {
     "data": {
      "text/html": [
       "<div>\n",
       "<style scoped>\n",
       "    .dataframe tbody tr th:only-of-type {\n",
       "        vertical-align: middle;\n",
       "    }\n",
       "\n",
       "    .dataframe tbody tr th {\n",
       "        vertical-align: top;\n",
       "    }\n",
       "\n",
       "    .dataframe thead th {\n",
       "        text-align: right;\n",
       "    }\n",
       "</style>\n",
       "<table border=\"1\" class=\"dataframe\">\n",
       "  <thead>\n",
       "    <tr style=\"text-align: right;\">\n",
       "      <th></th>\n",
       "      <th>text</th>\n",
       "      <th>toxic</th>\n",
       "    </tr>\n",
       "  </thead>\n",
       "  <tbody>\n",
       "    <tr>\n",
       "      <th>0</th>\n",
       "      <td>Explanation\\nWhy the edits made under my usern...</td>\n",
       "      <td>0</td>\n",
       "    </tr>\n",
       "    <tr>\n",
       "      <th>1</th>\n",
       "      <td>D'aww! He matches this background colour I'm s...</td>\n",
       "      <td>0</td>\n",
       "    </tr>\n",
       "    <tr>\n",
       "      <th>2</th>\n",
       "      <td>Hey man, I'm really not trying to edit war. It...</td>\n",
       "      <td>0</td>\n",
       "    </tr>\n",
       "    <tr>\n",
       "      <th>3</th>\n",
       "      <td>\"\\nMore\\nI can't make any real suggestions on ...</td>\n",
       "      <td>0</td>\n",
       "    </tr>\n",
       "    <tr>\n",
       "      <th>4</th>\n",
       "      <td>You, sir, are my hero. Any chance you remember...</td>\n",
       "      <td>0</td>\n",
       "    </tr>\n",
       "    <tr>\n",
       "      <th>...</th>\n",
       "      <td>...</td>\n",
       "      <td>...</td>\n",
       "    </tr>\n",
       "    <tr>\n",
       "      <th>159287</th>\n",
       "      <td>\":::::And for the second time of asking, when ...</td>\n",
       "      <td>0</td>\n",
       "    </tr>\n",
       "    <tr>\n",
       "      <th>159288</th>\n",
       "      <td>You should be ashamed of yourself \\n\\nThat is ...</td>\n",
       "      <td>0</td>\n",
       "    </tr>\n",
       "    <tr>\n",
       "      <th>159289</th>\n",
       "      <td>Spitzer \\n\\nUmm, theres no actual article for ...</td>\n",
       "      <td>0</td>\n",
       "    </tr>\n",
       "    <tr>\n",
       "      <th>159290</th>\n",
       "      <td>And it looks like it was actually you who put ...</td>\n",
       "      <td>0</td>\n",
       "    </tr>\n",
       "    <tr>\n",
       "      <th>159291</th>\n",
       "      <td>\"\\nAnd ... I really don't think you understand...</td>\n",
       "      <td>0</td>\n",
       "    </tr>\n",
       "  </tbody>\n",
       "</table>\n",
       "<p>159292 rows × 2 columns</p>\n",
       "</div>"
      ],
      "text/plain": [
       "                                                     text  toxic\n",
       "0       Explanation\\nWhy the edits made under my usern...      0\n",
       "1       D'aww! He matches this background colour I'm s...      0\n",
       "2       Hey man, I'm really not trying to edit war. It...      0\n",
       "3       \"\\nMore\\nI can't make any real suggestions on ...      0\n",
       "4       You, sir, are my hero. Any chance you remember...      0\n",
       "...                                                   ...    ...\n",
       "159287  \":::::And for the second time of asking, when ...      0\n",
       "159288  You should be ashamed of yourself \\n\\nThat is ...      0\n",
       "159289  Spitzer \\n\\nUmm, theres no actual article for ...      0\n",
       "159290  And it looks like it was actually you who put ...      0\n",
       "159291  \"\\nAnd ... I really don't think you understand...      0\n",
       "\n",
       "[159292 rows x 2 columns]"
      ]
     },
     "execution_count": 4,
     "metadata": {},
     "output_type": "execute_result"
    }
   ],
   "source": [
    "df = df[['text', 'toxic']]\n",
    "df"
   ]
  },
  {
   "cell_type": "markdown",
   "id": "fa17eecd",
   "metadata": {},
   "source": [
    "Посмотрим дополнительную информацию о датафрейме."
   ]
  },
  {
   "cell_type": "code",
   "execution_count": 60,
   "id": "d97d2cb7",
   "metadata": {},
   "outputs": [
    {
     "name": "stdout",
     "output_type": "stream",
     "text": [
      "<class 'pandas.core.frame.DataFrame'>\n",
      "RangeIndex: 159292 entries, 0 to 159291\n",
      "Data columns (total 2 columns):\n",
      " #   Column  Non-Null Count   Dtype \n",
      "---  ------  --------------   ----- \n",
      " 0   text    159292 non-null  object\n",
      " 1   toxic   159292 non-null  int64 \n",
      "dtypes: int64(1), object(1)\n",
      "memory usage: 2.4+ MB\n"
     ]
    }
   ],
   "source": [
    "df.info()"
   ]
  },
  {
   "cell_type": "code",
   "execution_count": 86,
   "id": "17f75e0b",
   "metadata": {},
   "outputs": [
    {
     "data": {
      "text/plain": [
       "array([0, 1], dtype=int64)"
      ]
     },
     "execution_count": 86,
     "metadata": {},
     "output_type": "execute_result"
    }
   ],
   "source": [
    "df['toxic'].unique()"
   ]
  },
  {
   "cell_type": "markdown",
   "id": "1f9ef102",
   "metadata": {},
   "source": [
    "Итак, в нашем распоряжении находится датафрейм, содержащий строковые данные в колонке `text`, которую мы будем использовать в качестве признака для обучения, а также колонка `toxic` с цифрами `0` и `1` - целевой признак, отражающий токсичность комментария (0 - не токсичный, 1 - токсичный)."
   ]
  },
  {
   "cell_type": "markdown",
   "id": "aaf7e5f5",
   "metadata": {
    "id": "aaf7e5f5"
   },
   "source": [
    "## 2. Подготовка данных"
   ]
  },
  {
   "cell_type": "markdown",
   "id": "9801ebd3",
   "metadata": {},
   "source": [
    "Для начала нем необходимо разделить имеющийся датасет на датасеты для обучения, валидации и тестировать. Это необходимо для того, чтобы предварительная обработка текста для валидационной и тестовой выборок была независима (моделирование тестирования на \"незнакомых\" данных для модели)."
   ]
  },
  {
   "cell_type": "code",
   "execution_count": 5,
   "id": "e6377e45",
   "metadata": {
    "executionInfo": {
     "elapsed": 43,
     "status": "ok",
     "timestamp": 1699335809816,
     "user": {
      "displayName": "Юлия Л.",
      "userId": "01831128222437638053"
     },
     "user_tz": -180
    },
    "id": "e6377e45"
   },
   "outputs": [],
   "source": [
    "train, val_test = train_test_split(df, test_size=0.1, random_state=42)\n",
    "val, test = train_test_split(val_test, test_size=0.5, random_state=42)"
   ]
  },
  {
   "cell_type": "code",
   "execution_count": 6,
   "id": "EN3mxg715uoZ",
   "metadata": {
    "colab": {
     "base_uri": "https://localhost:8080/",
     "height": 424
    },
    "executionInfo": {
     "elapsed": 42,
     "status": "ok",
     "timestamp": 1699335809818,
     "user": {
      "displayName": "Юлия Л.",
      "userId": "01831128222437638053"
     },
     "user_tz": -180
    },
    "id": "EN3mxg715uoZ",
    "outputId": "834d32aa-449f-4e37-b4d8-670d3b150d13"
   },
   "outputs": [
    {
     "data": {
      "text/html": [
       "<div>\n",
       "<style scoped>\n",
       "    .dataframe tbody tr th:only-of-type {\n",
       "        vertical-align: middle;\n",
       "    }\n",
       "\n",
       "    .dataframe tbody tr th {\n",
       "        vertical-align: top;\n",
       "    }\n",
       "\n",
       "    .dataframe thead th {\n",
       "        text-align: right;\n",
       "    }\n",
       "</style>\n",
       "<table border=\"1\" class=\"dataframe\">\n",
       "  <thead>\n",
       "    <tr style=\"text-align: right;\">\n",
       "      <th></th>\n",
       "      <th>text</th>\n",
       "      <th>toxic</th>\n",
       "    </tr>\n",
       "  </thead>\n",
       "  <tbody>\n",
       "    <tr>\n",
       "      <th>153838</th>\n",
       "      <td>Is Sagbliss a bigamist ?????</td>\n",
       "      <td>0</td>\n",
       "    </tr>\n",
       "    <tr>\n",
       "      <th>51445</th>\n",
       "      <td>One last thing... \\n\\nYou are a thundercunt of...</td>\n",
       "      <td>0</td>\n",
       "    </tr>\n",
       "    <tr>\n",
       "      <th>31684</th>\n",
       "      <td>Hello, I think you are a fuckwad. Eat shit and...</td>\n",
       "      <td>1</td>\n",
       "    </tr>\n",
       "    <tr>\n",
       "      <th>97256</th>\n",
       "      <td>OK, I've made another slew of blocks after con...</td>\n",
       "      <td>0</td>\n",
       "    </tr>\n",
       "    <tr>\n",
       "      <th>73261</th>\n",
       "      <td>Lunar Eclipse?? \\n\\nThese happen at least 2 ti...</td>\n",
       "      <td>0</td>\n",
       "    </tr>\n",
       "    <tr>\n",
       "      <th>...</th>\n",
       "      <td>...</td>\n",
       "      <td>...</td>\n",
       "    </tr>\n",
       "    <tr>\n",
       "      <th>39590</th>\n",
       "      <td>I swear to God, I will leave everything on Wik...</td>\n",
       "      <td>0</td>\n",
       "    </tr>\n",
       "    <tr>\n",
       "      <th>152255</th>\n",
       "      <td>Churchill  \\n\\nThat's not true. It is as much ...</td>\n",
       "      <td>0</td>\n",
       "    </tr>\n",
       "    <tr>\n",
       "      <th>29975</th>\n",
       "      <td>\"\\n\\nWhat are you talking about?\\n\\nRegarding ...</td>\n",
       "      <td>0</td>\n",
       "    </tr>\n",
       "    <tr>\n",
       "      <th>38434</th>\n",
       "      <td>\"\\nThank you kindly, .  Whatever you did, the ...</td>\n",
       "      <td>0</td>\n",
       "    </tr>\n",
       "    <tr>\n",
       "      <th>86944</th>\n",
       "      <td>I'm with Phil on this one - please help mainta...</td>\n",
       "      <td>0</td>\n",
       "    </tr>\n",
       "  </tbody>\n",
       "</table>\n",
       "<p>7965 rows × 2 columns</p>\n",
       "</div>"
      ],
      "text/plain": [
       "                                                     text  toxic\n",
       "153838                       Is Sagbliss a bigamist ?????      0\n",
       "51445   One last thing... \\n\\nYou are a thundercunt of...      0\n",
       "31684   Hello, I think you are a fuckwad. Eat shit and...      1\n",
       "97256   OK, I've made another slew of blocks after con...      0\n",
       "73261   Lunar Eclipse?? \\n\\nThese happen at least 2 ti...      0\n",
       "...                                                   ...    ...\n",
       "39590   I swear to God, I will leave everything on Wik...      0\n",
       "152255  Churchill  \\n\\nThat's not true. It is as much ...      0\n",
       "29975   \"\\n\\nWhat are you talking about?\\n\\nRegarding ...      0\n",
       "38434   \"\\nThank you kindly, .  Whatever you did, the ...      0\n",
       "86944   I'm with Phil on this one - please help mainta...      0\n",
       "\n",
       "[7965 rows x 2 columns]"
      ]
     },
     "execution_count": 6,
     "metadata": {},
     "output_type": "execute_result"
    }
   ],
   "source": [
    "val"
   ]
  },
  {
   "cell_type": "markdown",
   "id": "a4d7341f",
   "metadata": {
    "id": "a4d7341f"
   },
   "source": [
    "- Очистка"
   ]
  },
  {
   "cell_type": "markdown",
   "id": "f52f7f23",
   "metadata": {},
   "source": [
    "Уже при выводе нескольких частей текста можно заметить присутствие лишних символов, не несущих никакой информации и лишь создающих шум для модели. Очистим тесты от них. Для этого напишем отдельную функцию."
   ]
  },
  {
   "cell_type": "code",
   "execution_count": 7,
   "id": "41bad311",
   "metadata": {
    "executionInfo": {
     "elapsed": 39,
     "status": "ok",
     "timestamp": 1699335809820,
     "user": {
      "displayName": "Юлия Л.",
      "userId": "01831128222437638053"
     },
     "user_tz": -180
    },
    "id": "41bad311"
   },
   "outputs": [],
   "source": [
    "def clear_text(text):\n",
    "    t = re.sub(r'[^a-zA-Z ]', ' ', text)\n",
    "    lemm_list = t.split()\n",
    "    text_ret = \" \".join(lemm_list)\n",
    "\n",
    "    return text_ret"
   ]
  },
  {
   "cell_type": "markdown",
   "id": "ade57581",
   "metadata": {},
   "source": [
    "Далее проведем непосредственно очистку для тренировочной и валидационной выборок. Для тестовой выборки вся необходимая предобработка будет происходить на этапе тестирования выбранной по лучшей метрике `F1` модели."
   ]
  },
  {
   "cell_type": "code",
   "execution_count": 8,
   "id": "be2ae4d7",
   "metadata": {
    "colab": {
     "base_uri": "https://localhost:8080/",
     "height": 424
    },
    "executionInfo": {
     "elapsed": 8277,
     "status": "ok",
     "timestamp": 1699335818059,
     "user": {
      "displayName": "Юлия Л.",
      "userId": "01831128222437638053"
     },
     "user_tz": -180
    },
    "id": "be2ae4d7",
    "outputId": "f3cfb5c3-e4b5-4b18-f9de-b1d20f05d0ab"
   },
   "outputs": [
    {
     "data": {
      "text/html": [
       "<div>\n",
       "<style scoped>\n",
       "    .dataframe tbody tr th:only-of-type {\n",
       "        vertical-align: middle;\n",
       "    }\n",
       "\n",
       "    .dataframe tbody tr th {\n",
       "        vertical-align: top;\n",
       "    }\n",
       "\n",
       "    .dataframe thead th {\n",
       "        text-align: right;\n",
       "    }\n",
       "</style>\n",
       "<table border=\"1\" class=\"dataframe\">\n",
       "  <thead>\n",
       "    <tr style=\"text-align: right;\">\n",
       "      <th></th>\n",
       "      <th>text</th>\n",
       "      <th>toxic</th>\n",
       "      <th>text_re</th>\n",
       "    </tr>\n",
       "  </thead>\n",
       "  <tbody>\n",
       "    <tr>\n",
       "      <th>74250</th>\n",
       "      <td>Stop Deleting Images Without First Consulting ...</td>\n",
       "      <td>0</td>\n",
       "      <td>Stop Deleting Images Without First Consulting ...</td>\n",
       "    </tr>\n",
       "    <tr>\n",
       "      <th>101310</th>\n",
       "      <td>Controversial material of any kind that is uns...</td>\n",
       "      <td>0</td>\n",
       "      <td>Controversial material of any kind that is uns...</td>\n",
       "    </tr>\n",
       "    <tr>\n",
       "      <th>147342</th>\n",
       "      <td>Image source info \\n\\nHi there, as I was clear...</td>\n",
       "      <td>0</td>\n",
       "      <td>Image source info Hi there as I was clearing o...</td>\n",
       "    </tr>\n",
       "    <tr>\n",
       "      <th>90758</th>\n",
       "      <td>Extra stuff to go, reduce article size\\nThis i...</td>\n",
       "      <td>0</td>\n",
       "      <td>Extra stuff to go reduce article size This is ...</td>\n",
       "    </tr>\n",
       "    <tr>\n",
       "      <th>127220</th>\n",
       "      <td>Lol! It would look silly if he didnt grow at a...</td>\n",
       "      <td>0</td>\n",
       "      <td>Lol It would look silly if he didnt grow at al...</td>\n",
       "    </tr>\n",
       "    <tr>\n",
       "      <th>...</th>\n",
       "      <td>...</td>\n",
       "      <td>...</td>\n",
       "      <td>...</td>\n",
       "    </tr>\n",
       "    <tr>\n",
       "      <th>119879</th>\n",
       "      <td>\"\\n First of all, editor TheRedPenOfDoom is no...</td>\n",
       "      <td>0</td>\n",
       "      <td>First of all editor TheRedPenOfDoom is not a M...</td>\n",
       "    </tr>\n",
       "    <tr>\n",
       "      <th>103694</th>\n",
       "      <td>and decided to become gay</td>\n",
       "      <td>1</td>\n",
       "      <td>and decided to become gay</td>\n",
       "    </tr>\n",
       "    <tr>\n",
       "      <th>131932</th>\n",
       "      <td>John Bull vs. Adolf Hitler \\n\\n \\nLook at the ...</td>\n",
       "      <td>0</td>\n",
       "      <td>John Bull vs Adolf Hitler Look at the pictures...</td>\n",
       "    </tr>\n",
       "    <tr>\n",
       "      <th>146867</th>\n",
       "      <td>October 2009 \\n\\nYou have a lot to learn about...</td>\n",
       "      <td>0</td>\n",
       "      <td>October You have a lot to learn about the way ...</td>\n",
       "    </tr>\n",
       "    <tr>\n",
       "      <th>121958</th>\n",
       "      <td>\"\\nI'm sorry, Tip; the deduction was obvious (...</td>\n",
       "      <td>0</td>\n",
       "      <td>I m sorry Tip the deduction was obvious and wr...</td>\n",
       "    </tr>\n",
       "  </tbody>\n",
       "</table>\n",
       "<p>143362 rows × 3 columns</p>\n",
       "</div>"
      ],
      "text/plain": [
       "                                                     text  toxic  \\\n",
       "74250   Stop Deleting Images Without First Consulting ...      0   \n",
       "101310  Controversial material of any kind that is uns...      0   \n",
       "147342  Image source info \\n\\nHi there, as I was clear...      0   \n",
       "90758   Extra stuff to go, reduce article size\\nThis i...      0   \n",
       "127220  Lol! It would look silly if he didnt grow at a...      0   \n",
       "...                                                   ...    ...   \n",
       "119879  \"\\n First of all, editor TheRedPenOfDoom is no...      0   \n",
       "103694                          and decided to become gay      1   \n",
       "131932  John Bull vs. Adolf Hitler \\n\\n \\nLook at the ...      0   \n",
       "146867  October 2009 \\n\\nYou have a lot to learn about...      0   \n",
       "121958  \"\\nI'm sorry, Tip; the deduction was obvious (...      0   \n",
       "\n",
       "                                                  text_re  \n",
       "74250   Stop Deleting Images Without First Consulting ...  \n",
       "101310  Controversial material of any kind that is uns...  \n",
       "147342  Image source info Hi there as I was clearing o...  \n",
       "90758   Extra stuff to go reduce article size This is ...  \n",
       "127220  Lol It would look silly if he didnt grow at al...  \n",
       "...                                                   ...  \n",
       "119879  First of all editor TheRedPenOfDoom is not a M...  \n",
       "103694                          and decided to become gay  \n",
       "131932  John Bull vs Adolf Hitler Look at the pictures...  \n",
       "146867  October You have a lot to learn about the way ...  \n",
       "121958  I m sorry Tip the deduction was obvious and wr...  \n",
       "\n",
       "[143362 rows x 3 columns]"
      ]
     },
     "execution_count": 8,
     "metadata": {},
     "output_type": "execute_result"
    }
   ],
   "source": [
    "train['text_re'] = train['text'].apply(clear_text)\n",
    "val['text_re'] = val['text'].apply(clear_text)\n",
    "train"
   ]
  },
  {
   "cell_type": "markdown",
   "id": "81f28381",
   "metadata": {
    "id": "81f28381"
   },
   "source": [
    "- Лемматизация"
   ]
  },
  {
   "cell_type": "markdown",
   "id": "e7338476",
   "metadata": {},
   "source": [
    "Далее проведем лемматизацию, т.е. приведение слов в тексте к их лемме (их нормальной словарной форме). Для этого воспользуемся `WordNetLemmatizer()`. Также, поскольку процесс необходимо будет выполнить для всех выборок, поместим его в функцию."
   ]
  },
  {
   "cell_type": "code",
   "execution_count": 9,
   "id": "574bf9ad",
   "metadata": {
    "executionInfo": {
     "elapsed": 18,
     "status": "ok",
     "timestamp": 1699335818060,
     "user": {
      "displayName": "Юлия Л.",
      "userId": "01831128222437638053"
     },
     "user_tz": -180
    },
    "id": "574bf9ad"
   },
   "outputs": [],
   "source": [
    "lemmatizer = WordNetLemmatizer()"
   ]
  },
  {
   "cell_type": "code",
   "execution_count": 10,
   "id": "8be7e1dc",
   "metadata": {
    "executionInfo": {
     "elapsed": 15,
     "status": "ok",
     "timestamp": 1699335818060,
     "user": {
      "displayName": "Юлия Л.",
      "userId": "01831128222437638053"
     },
     "user_tz": -180
    },
    "id": "8be7e1dc"
   },
   "outputs": [],
   "source": [
    "def lemmatize_text(text):\n",
    "    lemm = lambda x: ' '.join([lemmatizer.lemmatize(word) for word in x.split()])\n",
    "    return lemm(text)"
   ]
  },
  {
   "cell_type": "markdown",
   "id": "1edafbc1",
   "metadata": {},
   "source": [
    "Теперь применяем лемматизатор на базе ранее очищенного теста."
   ]
  },
  {
   "cell_type": "code",
   "execution_count": 11,
   "id": "614037b2",
   "metadata": {
    "colab": {
     "base_uri": "https://localhost:8080/",
     "height": 424
    },
    "executionInfo": {
     "elapsed": 75071,
     "status": "ok",
     "timestamp": 1699335893119,
     "user": {
      "displayName": "Юлия Л.",
      "userId": "01831128222437638053"
     },
     "user_tz": -180
    },
    "id": "614037b2",
    "outputId": "70b787b7-eb9a-4522-be37-3c2ea8ff5559"
   },
   "outputs": [
    {
     "data": {
      "text/html": [
       "<div>\n",
       "<style scoped>\n",
       "    .dataframe tbody tr th:only-of-type {\n",
       "        vertical-align: middle;\n",
       "    }\n",
       "\n",
       "    .dataframe tbody tr th {\n",
       "        vertical-align: top;\n",
       "    }\n",
       "\n",
       "    .dataframe thead th {\n",
       "        text-align: right;\n",
       "    }\n",
       "</style>\n",
       "<table border=\"1\" class=\"dataframe\">\n",
       "  <thead>\n",
       "    <tr style=\"text-align: right;\">\n",
       "      <th></th>\n",
       "      <th>text</th>\n",
       "      <th>toxic</th>\n",
       "      <th>text_re</th>\n",
       "      <th>lemmatized_text</th>\n",
       "    </tr>\n",
       "  </thead>\n",
       "  <tbody>\n",
       "    <tr>\n",
       "      <th>74250</th>\n",
       "      <td>Stop Deleting Images Without First Consulting ...</td>\n",
       "      <td>0</td>\n",
       "      <td>Stop Deleting Images Without First Consulting ...</td>\n",
       "      <td>Stop Deleting Images Without First Consulting ...</td>\n",
       "    </tr>\n",
       "    <tr>\n",
       "      <th>101310</th>\n",
       "      <td>Controversial material of any kind that is uns...</td>\n",
       "      <td>0</td>\n",
       "      <td>Controversial material of any kind that is uns...</td>\n",
       "      <td>Controversial material of any kind that is uns...</td>\n",
       "    </tr>\n",
       "    <tr>\n",
       "      <th>147342</th>\n",
       "      <td>Image source info \\n\\nHi there, as I was clear...</td>\n",
       "      <td>0</td>\n",
       "      <td>Image source info Hi there as I was clearing o...</td>\n",
       "      <td>Image source info Hi there a I wa clearing out...</td>\n",
       "    </tr>\n",
       "    <tr>\n",
       "      <th>90758</th>\n",
       "      <td>Extra stuff to go, reduce article size\\nThis i...</td>\n",
       "      <td>0</td>\n",
       "      <td>Extra stuff to go reduce article size This is ...</td>\n",
       "      <td>Extra stuff to go reduce article size This is ...</td>\n",
       "    </tr>\n",
       "    <tr>\n",
       "      <th>127220</th>\n",
       "      <td>Lol! It would look silly if he didnt grow at a...</td>\n",
       "      <td>0</td>\n",
       "      <td>Lol It would look silly if he didnt grow at al...</td>\n",
       "      <td>Lol It would look silly if he didnt grow at al...</td>\n",
       "    </tr>\n",
       "    <tr>\n",
       "      <th>...</th>\n",
       "      <td>...</td>\n",
       "      <td>...</td>\n",
       "      <td>...</td>\n",
       "      <td>...</td>\n",
       "    </tr>\n",
       "    <tr>\n",
       "      <th>119879</th>\n",
       "      <td>\"\\n First of all, editor TheRedPenOfDoom is no...</td>\n",
       "      <td>0</td>\n",
       "      <td>First of all editor TheRedPenOfDoom is not a M...</td>\n",
       "      <td>First of all editor TheRedPenOfDoom is not a M...</td>\n",
       "    </tr>\n",
       "    <tr>\n",
       "      <th>103694</th>\n",
       "      <td>and decided to become gay</td>\n",
       "      <td>1</td>\n",
       "      <td>and decided to become gay</td>\n",
       "      <td>and decided to become gay</td>\n",
       "    </tr>\n",
       "    <tr>\n",
       "      <th>131932</th>\n",
       "      <td>John Bull vs. Adolf Hitler \\n\\n \\nLook at the ...</td>\n",
       "      <td>0</td>\n",
       "      <td>John Bull vs Adolf Hitler Look at the pictures...</td>\n",
       "      <td>John Bull v Adolf Hitler Look at the picture o...</td>\n",
       "    </tr>\n",
       "    <tr>\n",
       "      <th>146867</th>\n",
       "      <td>October 2009 \\n\\nYou have a lot to learn about...</td>\n",
       "      <td>0</td>\n",
       "      <td>October You have a lot to learn about the way ...</td>\n",
       "      <td>October You have a lot to learn about the way ...</td>\n",
       "    </tr>\n",
       "    <tr>\n",
       "      <th>121958</th>\n",
       "      <td>\"\\nI'm sorry, Tip; the deduction was obvious (...</td>\n",
       "      <td>0</td>\n",
       "      <td>I m sorry Tip the deduction was obvious and wr...</td>\n",
       "      <td>I m sorry Tip the deduction wa obvious and wro...</td>\n",
       "    </tr>\n",
       "  </tbody>\n",
       "</table>\n",
       "<p>143362 rows × 4 columns</p>\n",
       "</div>"
      ],
      "text/plain": [
       "                                                     text  toxic  \\\n",
       "74250   Stop Deleting Images Without First Consulting ...      0   \n",
       "101310  Controversial material of any kind that is uns...      0   \n",
       "147342  Image source info \\n\\nHi there, as I was clear...      0   \n",
       "90758   Extra stuff to go, reduce article size\\nThis i...      0   \n",
       "127220  Lol! It would look silly if he didnt grow at a...      0   \n",
       "...                                                   ...    ...   \n",
       "119879  \"\\n First of all, editor TheRedPenOfDoom is no...      0   \n",
       "103694                          and decided to become gay      1   \n",
       "131932  John Bull vs. Adolf Hitler \\n\\n \\nLook at the ...      0   \n",
       "146867  October 2009 \\n\\nYou have a lot to learn about...      0   \n",
       "121958  \"\\nI'm sorry, Tip; the deduction was obvious (...      0   \n",
       "\n",
       "                                                  text_re  \\\n",
       "74250   Stop Deleting Images Without First Consulting ...   \n",
       "101310  Controversial material of any kind that is uns...   \n",
       "147342  Image source info Hi there as I was clearing o...   \n",
       "90758   Extra stuff to go reduce article size This is ...   \n",
       "127220  Lol It would look silly if he didnt grow at al...   \n",
       "...                                                   ...   \n",
       "119879  First of all editor TheRedPenOfDoom is not a M...   \n",
       "103694                          and decided to become gay   \n",
       "131932  John Bull vs Adolf Hitler Look at the pictures...   \n",
       "146867  October You have a lot to learn about the way ...   \n",
       "121958  I m sorry Tip the deduction was obvious and wr...   \n",
       "\n",
       "                                          lemmatized_text  \n",
       "74250   Stop Deleting Images Without First Consulting ...  \n",
       "101310  Controversial material of any kind that is uns...  \n",
       "147342  Image source info Hi there a I wa clearing out...  \n",
       "90758   Extra stuff to go reduce article size This is ...  \n",
       "127220  Lol It would look silly if he didnt grow at al...  \n",
       "...                                                   ...  \n",
       "119879  First of all editor TheRedPenOfDoom is not a M...  \n",
       "103694                          and decided to become gay  \n",
       "131932  John Bull v Adolf Hitler Look at the picture o...  \n",
       "146867  October You have a lot to learn about the way ...  \n",
       "121958  I m sorry Tip the deduction wa obvious and wro...  \n",
       "\n",
       "[143362 rows x 4 columns]"
      ]
     },
     "execution_count": 11,
     "metadata": {},
     "output_type": "execute_result"
    }
   ],
   "source": [
    "train['lemmatized_text'] = train['text_re'].apply(lemmatize_text)\n",
    "val['lemmatized_text'] = val['text_re'].apply(lemmatize_text)\n",
    "train"
   ]
  },
  {
   "cell_type": "markdown",
   "id": "f1625227",
   "metadata": {
    "id": "f1625227"
   },
   "source": [
    "- Стоп-слова и TF-IDF"
   ]
  },
  {
   "cell_type": "markdown",
   "id": "47215d14",
   "metadata": {},
   "source": [
    "Далее мы обучим несколько моделей: `Логистическая регрессия`, `CatBoost` и `Detoxify` на базе `BERT`. Для двух последних тесты не обязательно переводить в матрицу TF-IDF, у них есть собственные встроенные методы. Модель Логистическая регрессия таких не имеет, поэтому создадим для нее отдельные признаки с помощью TF-IDF."
   ]
  },
  {
   "cell_type": "code",
   "execution_count": 12,
   "id": "5926f0d6",
   "metadata": {
    "executionInfo": {
     "elapsed": 18,
     "status": "ok",
     "timestamp": 1699335893121,
     "user": {
      "displayName": "Юлия Л.",
      "userId": "01831128222437638053"
     },
     "user_tz": -180
    },
    "id": "5926f0d6"
   },
   "outputs": [],
   "source": [
    "stopwords = set(nltk_stopwords.words('english'))\n",
    "vectorizer = TfidfVectorizer(stop_words=list(stopwords),lowercase=True)"
   ]
  },
  {
   "cell_type": "code",
   "execution_count": 14,
   "id": "cd562b26",
   "metadata": {
    "colab": {
     "base_uri": "https://localhost:8080/",
     "height": 444
    },
    "executionInfo": {
     "elapsed": 18785,
     "status": "ok",
     "timestamp": 1699335911891,
     "user": {
      "displayName": "Юлия Л.",
      "userId": "01831128222437638053"
     },
     "user_tz": -180
    },
    "id": "cd562b26",
    "outputId": "580ea1db-ebcf-49a3-ba90-af439e3c1f1b"
   },
   "outputs": [
    {
     "data": {
      "text/html": [
       "<div>\n",
       "<style scoped>\n",
       "    .dataframe tbody tr th:only-of-type {\n",
       "        vertical-align: middle;\n",
       "    }\n",
       "\n",
       "    .dataframe tbody tr th {\n",
       "        vertical-align: top;\n",
       "    }\n",
       "\n",
       "    .dataframe thead th {\n",
       "        text-align: right;\n",
       "    }\n",
       "</style>\n",
       "<table border=\"1\" class=\"dataframe\">\n",
       "  <thead>\n",
       "    <tr style=\"text-align: right;\">\n",
       "      <th></th>\n",
       "      <th>aa</th>\n",
       "      <th>aaa</th>\n",
       "      <th>aaaa</th>\n",
       "      <th>aaaaa</th>\n",
       "      <th>aaaaaaaa</th>\n",
       "      <th>aaaaaaaaaaaaaaaaaaaaaaaaaaaaaaaaaaaaaaaaaaaaaaaaaaaaaaaaaaaaaaaaaaaaaany</th>\n",
       "      <th>aaaaaaaaaah</th>\n",
       "      <th>aaaaaaaaadm</th>\n",
       "      <th>aaaaaaaaaq</th>\n",
       "      <th>aaaaaaaacfo</th>\n",
       "      <th>...</th>\n",
       "      <th>zzz</th>\n",
       "      <th>zzzz</th>\n",
       "      <th>zzzzz</th>\n",
       "      <th>zzzzzzz</th>\n",
       "      <th>zzzzzzzzzzzzzzzzz</th>\n",
       "      <th>zzzzzzzzzzzzzzzzzzzzz</th>\n",
       "      <th>zzzzzzzzzzzzzzzzzzzzzzzzzzzzzz</th>\n",
       "      <th>zzzzzzzzzzzzzzzzzzzzzzzzzzzzzzzzzzzzzzzzzzzzzzzzzzzzzzzzz</th>\n",
       "      <th>zzzzzzzzzzzzzzzzzzzzzzzzzzzzzzzzzzzzzzzzzzzzzzzzzzzzzzzzzzzzzzzzzzzzzzzzzzzzzzzzzzzzzzzzzzzzzzzzzzzzzzzzzzzzzzzzzzzzzzzzzzzzzzzzzzzzzzzzzzzzzzzzzzzzz</th>\n",
       "      <th>zzzzzzzzzzzzzzzzzzzzzzzzzzzzzzzzzzzzzzzzzzzzzzzzzzzzzzzzzzzzzzzzzzzzzzzzzzzzzzzzzzzzzzzzzzzzzzzzzzzzzzzzzzzzzzzzzzzzzzzzzzzzzzzzzzzzzzzzzzzzzzzzzzzzzz</th>\n",
       "    </tr>\n",
       "  </thead>\n",
       "  <tbody>\n",
       "    <tr>\n",
       "      <th>0</th>\n",
       "      <td>0.0</td>\n",
       "      <td>0.0</td>\n",
       "      <td>0.0</td>\n",
       "      <td>0.0</td>\n",
       "      <td>0.0</td>\n",
       "      <td>0.0</td>\n",
       "      <td>0.0</td>\n",
       "      <td>0.0</td>\n",
       "      <td>0.0</td>\n",
       "      <td>0.0</td>\n",
       "      <td>...</td>\n",
       "      <td>0.0</td>\n",
       "      <td>0.0</td>\n",
       "      <td>0.0</td>\n",
       "      <td>0.0</td>\n",
       "      <td>0.0</td>\n",
       "      <td>0.0</td>\n",
       "      <td>0.0</td>\n",
       "      <td>0.0</td>\n",
       "      <td>0.0</td>\n",
       "      <td>0.0</td>\n",
       "    </tr>\n",
       "    <tr>\n",
       "      <th>1</th>\n",
       "      <td>0.0</td>\n",
       "      <td>0.0</td>\n",
       "      <td>0.0</td>\n",
       "      <td>0.0</td>\n",
       "      <td>0.0</td>\n",
       "      <td>0.0</td>\n",
       "      <td>0.0</td>\n",
       "      <td>0.0</td>\n",
       "      <td>0.0</td>\n",
       "      <td>0.0</td>\n",
       "      <td>...</td>\n",
       "      <td>0.0</td>\n",
       "      <td>0.0</td>\n",
       "      <td>0.0</td>\n",
       "      <td>0.0</td>\n",
       "      <td>0.0</td>\n",
       "      <td>0.0</td>\n",
       "      <td>0.0</td>\n",
       "      <td>0.0</td>\n",
       "      <td>0.0</td>\n",
       "      <td>0.0</td>\n",
       "    </tr>\n",
       "    <tr>\n",
       "      <th>2</th>\n",
       "      <td>0.0</td>\n",
       "      <td>0.0</td>\n",
       "      <td>0.0</td>\n",
       "      <td>0.0</td>\n",
       "      <td>0.0</td>\n",
       "      <td>0.0</td>\n",
       "      <td>0.0</td>\n",
       "      <td>0.0</td>\n",
       "      <td>0.0</td>\n",
       "      <td>0.0</td>\n",
       "      <td>...</td>\n",
       "      <td>0.0</td>\n",
       "      <td>0.0</td>\n",
       "      <td>0.0</td>\n",
       "      <td>0.0</td>\n",
       "      <td>0.0</td>\n",
       "      <td>0.0</td>\n",
       "      <td>0.0</td>\n",
       "      <td>0.0</td>\n",
       "      <td>0.0</td>\n",
       "      <td>0.0</td>\n",
       "    </tr>\n",
       "    <tr>\n",
       "      <th>3</th>\n",
       "      <td>0.0</td>\n",
       "      <td>0.0</td>\n",
       "      <td>0.0</td>\n",
       "      <td>0.0</td>\n",
       "      <td>0.0</td>\n",
       "      <td>0.0</td>\n",
       "      <td>0.0</td>\n",
       "      <td>0.0</td>\n",
       "      <td>0.0</td>\n",
       "      <td>0.0</td>\n",
       "      <td>...</td>\n",
       "      <td>0.0</td>\n",
       "      <td>0.0</td>\n",
       "      <td>0.0</td>\n",
       "      <td>0.0</td>\n",
       "      <td>0.0</td>\n",
       "      <td>0.0</td>\n",
       "      <td>0.0</td>\n",
       "      <td>0.0</td>\n",
       "      <td>0.0</td>\n",
       "      <td>0.0</td>\n",
       "    </tr>\n",
       "    <tr>\n",
       "      <th>4</th>\n",
       "      <td>0.0</td>\n",
       "      <td>0.0</td>\n",
       "      <td>0.0</td>\n",
       "      <td>0.0</td>\n",
       "      <td>0.0</td>\n",
       "      <td>0.0</td>\n",
       "      <td>0.0</td>\n",
       "      <td>0.0</td>\n",
       "      <td>0.0</td>\n",
       "      <td>0.0</td>\n",
       "      <td>...</td>\n",
       "      <td>0.0</td>\n",
       "      <td>0.0</td>\n",
       "      <td>0.0</td>\n",
       "      <td>0.0</td>\n",
       "      <td>0.0</td>\n",
       "      <td>0.0</td>\n",
       "      <td>0.0</td>\n",
       "      <td>0.0</td>\n",
       "      <td>0.0</td>\n",
       "      <td>0.0</td>\n",
       "    </tr>\n",
       "    <tr>\n",
       "      <th>...</th>\n",
       "      <td>...</td>\n",
       "      <td>...</td>\n",
       "      <td>...</td>\n",
       "      <td>...</td>\n",
       "      <td>...</td>\n",
       "      <td>...</td>\n",
       "      <td>...</td>\n",
       "      <td>...</td>\n",
       "      <td>...</td>\n",
       "      <td>...</td>\n",
       "      <td>...</td>\n",
       "      <td>...</td>\n",
       "      <td>...</td>\n",
       "      <td>...</td>\n",
       "      <td>...</td>\n",
       "      <td>...</td>\n",
       "      <td>...</td>\n",
       "      <td>...</td>\n",
       "      <td>...</td>\n",
       "      <td>...</td>\n",
       "      <td>...</td>\n",
       "    </tr>\n",
       "    <tr>\n",
       "      <th>143357</th>\n",
       "      <td>0.0</td>\n",
       "      <td>0.0</td>\n",
       "      <td>0.0</td>\n",
       "      <td>0.0</td>\n",
       "      <td>0.0</td>\n",
       "      <td>0.0</td>\n",
       "      <td>0.0</td>\n",
       "      <td>0.0</td>\n",
       "      <td>0.0</td>\n",
       "      <td>0.0</td>\n",
       "      <td>...</td>\n",
       "      <td>0.0</td>\n",
       "      <td>0.0</td>\n",
       "      <td>0.0</td>\n",
       "      <td>0.0</td>\n",
       "      <td>0.0</td>\n",
       "      <td>0.0</td>\n",
       "      <td>0.0</td>\n",
       "      <td>0.0</td>\n",
       "      <td>0.0</td>\n",
       "      <td>0.0</td>\n",
       "    </tr>\n",
       "    <tr>\n",
       "      <th>143358</th>\n",
       "      <td>0.0</td>\n",
       "      <td>0.0</td>\n",
       "      <td>0.0</td>\n",
       "      <td>0.0</td>\n",
       "      <td>0.0</td>\n",
       "      <td>0.0</td>\n",
       "      <td>0.0</td>\n",
       "      <td>0.0</td>\n",
       "      <td>0.0</td>\n",
       "      <td>0.0</td>\n",
       "      <td>...</td>\n",
       "      <td>0.0</td>\n",
       "      <td>0.0</td>\n",
       "      <td>0.0</td>\n",
       "      <td>0.0</td>\n",
       "      <td>0.0</td>\n",
       "      <td>0.0</td>\n",
       "      <td>0.0</td>\n",
       "      <td>0.0</td>\n",
       "      <td>0.0</td>\n",
       "      <td>0.0</td>\n",
       "    </tr>\n",
       "    <tr>\n",
       "      <th>143359</th>\n",
       "      <td>0.0</td>\n",
       "      <td>0.0</td>\n",
       "      <td>0.0</td>\n",
       "      <td>0.0</td>\n",
       "      <td>0.0</td>\n",
       "      <td>0.0</td>\n",
       "      <td>0.0</td>\n",
       "      <td>0.0</td>\n",
       "      <td>0.0</td>\n",
       "      <td>0.0</td>\n",
       "      <td>...</td>\n",
       "      <td>0.0</td>\n",
       "      <td>0.0</td>\n",
       "      <td>0.0</td>\n",
       "      <td>0.0</td>\n",
       "      <td>0.0</td>\n",
       "      <td>0.0</td>\n",
       "      <td>0.0</td>\n",
       "      <td>0.0</td>\n",
       "      <td>0.0</td>\n",
       "      <td>0.0</td>\n",
       "    </tr>\n",
       "    <tr>\n",
       "      <th>143360</th>\n",
       "      <td>0.0</td>\n",
       "      <td>0.0</td>\n",
       "      <td>0.0</td>\n",
       "      <td>0.0</td>\n",
       "      <td>0.0</td>\n",
       "      <td>0.0</td>\n",
       "      <td>0.0</td>\n",
       "      <td>0.0</td>\n",
       "      <td>0.0</td>\n",
       "      <td>0.0</td>\n",
       "      <td>...</td>\n",
       "      <td>0.0</td>\n",
       "      <td>0.0</td>\n",
       "      <td>0.0</td>\n",
       "      <td>0.0</td>\n",
       "      <td>0.0</td>\n",
       "      <td>0.0</td>\n",
       "      <td>0.0</td>\n",
       "      <td>0.0</td>\n",
       "      <td>0.0</td>\n",
       "      <td>0.0</td>\n",
       "    </tr>\n",
       "    <tr>\n",
       "      <th>143361</th>\n",
       "      <td>0.0</td>\n",
       "      <td>0.0</td>\n",
       "      <td>0.0</td>\n",
       "      <td>0.0</td>\n",
       "      <td>0.0</td>\n",
       "      <td>0.0</td>\n",
       "      <td>0.0</td>\n",
       "      <td>0.0</td>\n",
       "      <td>0.0</td>\n",
       "      <td>0.0</td>\n",
       "      <td>...</td>\n",
       "      <td>0.0</td>\n",
       "      <td>0.0</td>\n",
       "      <td>0.0</td>\n",
       "      <td>0.0</td>\n",
       "      <td>0.0</td>\n",
       "      <td>0.0</td>\n",
       "      <td>0.0</td>\n",
       "      <td>0.0</td>\n",
       "      <td>0.0</td>\n",
       "      <td>0.0</td>\n",
       "    </tr>\n",
       "  </tbody>\n",
       "</table>\n",
       "<p>143362 rows × 153959 columns</p>\n",
       "</div>"
      ],
      "text/plain": [
       "         aa  aaa  aaaa  aaaaa  aaaaaaaa  \\\n",
       "0       0.0  0.0   0.0    0.0       0.0   \n",
       "1       0.0  0.0   0.0    0.0       0.0   \n",
       "2       0.0  0.0   0.0    0.0       0.0   \n",
       "3       0.0  0.0   0.0    0.0       0.0   \n",
       "4       0.0  0.0   0.0    0.0       0.0   \n",
       "...     ...  ...   ...    ...       ...   \n",
       "143357  0.0  0.0   0.0    0.0       0.0   \n",
       "143358  0.0  0.0   0.0    0.0       0.0   \n",
       "143359  0.0  0.0   0.0    0.0       0.0   \n",
       "143360  0.0  0.0   0.0    0.0       0.0   \n",
       "143361  0.0  0.0   0.0    0.0       0.0   \n",
       "\n",
       "        aaaaaaaaaaaaaaaaaaaaaaaaaaaaaaaaaaaaaaaaaaaaaaaaaaaaaaaaaaaaaaaaaaaaaany  \\\n",
       "0                                                     0.0                          \n",
       "1                                                     0.0                          \n",
       "2                                                     0.0                          \n",
       "3                                                     0.0                          \n",
       "4                                                     0.0                          \n",
       "...                                                   ...                          \n",
       "143357                                                0.0                          \n",
       "143358                                                0.0                          \n",
       "143359                                                0.0                          \n",
       "143360                                                0.0                          \n",
       "143361                                                0.0                          \n",
       "\n",
       "        aaaaaaaaaah  aaaaaaaaadm  aaaaaaaaaq  aaaaaaaacfo  ...  zzz  zzzz  \\\n",
       "0               0.0          0.0         0.0          0.0  ...  0.0   0.0   \n",
       "1               0.0          0.0         0.0          0.0  ...  0.0   0.0   \n",
       "2               0.0          0.0         0.0          0.0  ...  0.0   0.0   \n",
       "3               0.0          0.0         0.0          0.0  ...  0.0   0.0   \n",
       "4               0.0          0.0         0.0          0.0  ...  0.0   0.0   \n",
       "...             ...          ...         ...          ...  ...  ...   ...   \n",
       "143357          0.0          0.0         0.0          0.0  ...  0.0   0.0   \n",
       "143358          0.0          0.0         0.0          0.0  ...  0.0   0.0   \n",
       "143359          0.0          0.0         0.0          0.0  ...  0.0   0.0   \n",
       "143360          0.0          0.0         0.0          0.0  ...  0.0   0.0   \n",
       "143361          0.0          0.0         0.0          0.0  ...  0.0   0.0   \n",
       "\n",
       "        zzzzz  zzzzzzz  zzzzzzzzzzzzzzzzz  zzzzzzzzzzzzzzzzzzzzz  \\\n",
       "0         0.0      0.0                0.0                    0.0   \n",
       "1         0.0      0.0                0.0                    0.0   \n",
       "2         0.0      0.0                0.0                    0.0   \n",
       "3         0.0      0.0                0.0                    0.0   \n",
       "4         0.0      0.0                0.0                    0.0   \n",
       "...       ...      ...                ...                    ...   \n",
       "143357    0.0      0.0                0.0                    0.0   \n",
       "143358    0.0      0.0                0.0                    0.0   \n",
       "143359    0.0      0.0                0.0                    0.0   \n",
       "143360    0.0      0.0                0.0                    0.0   \n",
       "143361    0.0      0.0                0.0                    0.0   \n",
       "\n",
       "        zzzzzzzzzzzzzzzzzzzzzzzzzzzzzz  \\\n",
       "0                                  0.0   \n",
       "1                                  0.0   \n",
       "2                                  0.0   \n",
       "3                                  0.0   \n",
       "4                                  0.0   \n",
       "...                                ...   \n",
       "143357                             0.0   \n",
       "143358                             0.0   \n",
       "143359                             0.0   \n",
       "143360                             0.0   \n",
       "143361                             0.0   \n",
       "\n",
       "        zzzzzzzzzzzzzzzzzzzzzzzzzzzzzzzzzzzzzzzzzzzzzzzzzzzzzzzzz  \\\n",
       "0                                                     0.0           \n",
       "1                                                     0.0           \n",
       "2                                                     0.0           \n",
       "3                                                     0.0           \n",
       "4                                                     0.0           \n",
       "...                                                   ...           \n",
       "143357                                                0.0           \n",
       "143358                                                0.0           \n",
       "143359                                                0.0           \n",
       "143360                                                0.0           \n",
       "143361                                                0.0           \n",
       "\n",
       "        zzzzzzzzzzzzzzzzzzzzzzzzzzzzzzzzzzzzzzzzzzzzzzzzzzzzzzzzzzzzzzzzzzzzzzzzzzzzzzzzzzzzzzzzzzzzzzzzzzzzzzzzzzzzzzzzzzzzzzzzzzzzzzzzzzzzzzzzzzzzzzzzzzzzz  \\\n",
       "0                                                     0.0                                                                                                       \n",
       "1                                                     0.0                                                                                                       \n",
       "2                                                     0.0                                                                                                       \n",
       "3                                                     0.0                                                                                                       \n",
       "4                                                     0.0                                                                                                       \n",
       "...                                                   ...                                                                                                       \n",
       "143357                                                0.0                                                                                                       \n",
       "143358                                                0.0                                                                                                       \n",
       "143359                                                0.0                                                                                                       \n",
       "143360                                                0.0                                                                                                       \n",
       "143361                                                0.0                                                                                                       \n",
       "\n",
       "        zzzzzzzzzzzzzzzzzzzzzzzzzzzzzzzzzzzzzzzzzzzzzzzzzzzzzzzzzzzzzzzzzzzzzzzzzzzzzzzzzzzzzzzzzzzzzzzzzzzzzzzzzzzzzzzzzzzzzzzzzzzzzzzzzzzzzzzzzzzzzzzzzzzzzz  \n",
       "0                                                     0.0                                                                                                       \n",
       "1                                                     0.0                                                                                                       \n",
       "2                                                     0.0                                                                                                       \n",
       "3                                                     0.0                                                                                                       \n",
       "4                                                     0.0                                                                                                       \n",
       "...                                                   ...                                                                                                       \n",
       "143357                                                0.0                                                                                                       \n",
       "143358                                                0.0                                                                                                       \n",
       "143359                                                0.0                                                                                                       \n",
       "143360                                                0.0                                                                                                       \n",
       "143361                                                0.0                                                                                                       \n",
       "\n",
       "[143362 rows x 153959 columns]"
      ]
     },
     "execution_count": 14,
     "metadata": {},
     "output_type": "execute_result"
    }
   ],
   "source": [
    "# Преобразование колонки 'lemmatized_text' в матрицу TF-IDF\n",
    "tfidf_matrix_train = vectorizer.fit_transform(train['lemmatized_text'])\n",
    "tfidf_matrix_sparse_train = sparse.csr_matrix(tfidf_matrix_train) # Преобразование в разреженную матрицу формата CSR\n",
    "\n",
    "# Создание разреженного датафрейма из разреженной матрицы TF-IDF\n",
    "df_tfidf_train = pd.DataFrame.sparse.from_spmatrix(tfidf_matrix_sparse_train, columns=vectorizer.get_feature_names_out())\n",
    "\n",
    "tfidf_matrix_val = vectorizer.transform(val['lemmatized_text'])\n",
    "tfidf_matrix_sparse_val = sparse.csr_matrix(tfidf_matrix_val) # Преобразование в разреженную матрицу формата CSR\n",
    "\n",
    "# Создание разреженного датафрейма из разреженной матрицы TF-IDF\n",
    "df_tfidf_val = pd.DataFrame.sparse.from_spmatrix(tfidf_matrix_sparse_val, columns=vectorizer.get_feature_names_out())\n",
    "\n",
    "# Вывод датафрейма с разреженной матрицей TF-IDF\n",
    "df_tfidf_train"
   ]
  },
  {
   "cell_type": "markdown",
   "id": "b82ea692",
   "metadata": {
    "id": "b82ea692"
   },
   "source": [
    "## 3. Обучение моделей"
   ]
  },
  {
   "cell_type": "markdown",
   "id": "0ab7b0f8",
   "metadata": {},
   "source": [
    "Для эксперимента мы выбрали 3 максимально разнообразные модели:\n",
    "- `Логистическая регрессия`: базовая модель, для которой мы также применили преобразование текста в матрицу TF-IDF.\n",
    "- `CatBoostClassifier`: модель гадиентного бустинга, преобразования текста не требует, т.к. имеет собственные методы TF-IDF.\n",
    "- `Detoxify` на базе `BERT`: является предобученной моделью, разработаной на базе нейронной сети для работы с текстами BERT."
   ]
  },
  {
   "cell_type": "markdown",
   "id": "778b46f4",
   "metadata": {
    "id": "778b46f4"
   },
   "source": [
    "- **Логистическая регрессия**"
   ]
  },
  {
   "cell_type": "markdown",
   "id": "bd9b6946",
   "metadata": {},
   "source": [
    "Для `Логистической регрессии` мы ранее провели генерацию тектов тренировочной и тестовой выборок с помощью TF-IDF и получили `df_tfidf_train` и `df_tfidf_val`, объявим из них итоговые данные для тестирования и валидации."
   ]
  },
  {
   "cell_type": "code",
   "execution_count": null,
   "id": "0b820563",
   "metadata": {
    "executionInfo": {
     "elapsed": 14,
     "status": "ok",
     "timestamp": 1699335911892,
     "user": {
      "displayName": "Юлия Л.",
      "userId": "01831128222437638053"
     },
     "user_tz": -180
    },
    "id": "0b820563"
   },
   "outputs": [],
   "source": [
    "X_train = df_tfidf_train\n",
    "y_train = train['toxic']\n",
    "\n",
    "X_val = df_tfidf_val\n",
    "y_val = val['toxic']"
   ]
  },
  {
   "cell_type": "markdown",
   "id": "c991a985",
   "metadata": {},
   "source": [
    "Теперь можно создать и обучить модель на тестовой выборке. Также замерим время обучения."
   ]
  },
  {
   "cell_type": "code",
   "execution_count": 17,
   "id": "6f3b6e12",
   "metadata": {
    "colab": {
     "base_uri": "https://localhost:8080/"
    },
    "executionInfo": {
     "elapsed": 28115,
     "status": "ok",
     "timestamp": 1699335939995,
     "user": {
      "displayName": "Юлия Л.",
      "userId": "01831128222437638053"
     },
     "user_tz": -180
    },
    "id": "6f3b6e12",
    "outputId": "73964f69-660a-4c61-d520-4ec3ab0d0ceb"
   },
   "outputs": [
    {
     "name": "stdout",
     "output_type": "stream",
     "text": [
      "Время выполнения: 14.36 сек\n"
     ]
    }
   ],
   "source": [
    "start_time = time.time()\n",
    "\n",
    "# Создание и обучение модели логистической регрессии\n",
    "model = LogisticRegression(random_state=42)\n",
    "model.fit(X_train, y_train)\n",
    "\n",
    "execution_time = time.time() - start_time\n",
    "print(\"Время выполнения:\", round(execution_time,2), \"сек\")"
   ]
  },
  {
   "cell_type": "markdown",
   "id": "a7faf4bf",
   "metadata": {},
   "source": [
    "Обучение модели длилось всего 14 секунд, что показывает очень высокую скорость для такого объема данных. Предскажем и добавим в валидационный датасет вероятности отнесения текста к токсичному с помощью `predict_proba`."
   ]
  },
  {
   "cell_type": "code",
   "execution_count": 18,
   "id": "579f09af",
   "metadata": {
    "colab": {
     "base_uri": "https://localhost:8080/",
     "height": 424
    },
    "executionInfo": {
     "elapsed": 14078,
     "status": "ok",
     "timestamp": 1699335954055,
     "user": {
      "displayName": "Юлия Л.",
      "userId": "01831128222437638053"
     },
     "user_tz": -180
    },
    "id": "579f09af",
    "outputId": "3baeaf99-8c8e-4f16-9022-4d526565cdea"
   },
   "outputs": [
    {
     "data": {
      "text/html": [
       "<div>\n",
       "<style scoped>\n",
       "    .dataframe tbody tr th:only-of-type {\n",
       "        vertical-align: middle;\n",
       "    }\n",
       "\n",
       "    .dataframe tbody tr th {\n",
       "        vertical-align: top;\n",
       "    }\n",
       "\n",
       "    .dataframe thead th {\n",
       "        text-align: right;\n",
       "    }\n",
       "</style>\n",
       "<table border=\"1\" class=\"dataframe\">\n",
       "  <thead>\n",
       "    <tr style=\"text-align: right;\">\n",
       "      <th></th>\n",
       "      <th>text</th>\n",
       "      <th>toxic</th>\n",
       "      <th>text_re</th>\n",
       "      <th>lemmatized_text</th>\n",
       "      <th>y_pred</th>\n",
       "    </tr>\n",
       "  </thead>\n",
       "  <tbody>\n",
       "    <tr>\n",
       "      <th>153838</th>\n",
       "      <td>Is Sagbliss a bigamist ?????</td>\n",
       "      <td>0</td>\n",
       "      <td>Is Sagbliss a bigamist</td>\n",
       "      <td>Is Sagbliss a bigamist</td>\n",
       "      <td>0.076587</td>\n",
       "    </tr>\n",
       "    <tr>\n",
       "      <th>51445</th>\n",
       "      <td>One last thing... \\n\\nYou are a thundercunt of...</td>\n",
       "      <td>0</td>\n",
       "      <td>One last thing You are a thundercunt of Piers ...</td>\n",
       "      <td>One last thing You are a thundercunt of Piers ...</td>\n",
       "      <td>0.064129</td>\n",
       "    </tr>\n",
       "    <tr>\n",
       "      <th>31684</th>\n",
       "      <td>Hello, I think you are a fuckwad. Eat shit and...</td>\n",
       "      <td>1</td>\n",
       "      <td>Hello I think you are a fuckwad Eat shit and die</td>\n",
       "      <td>Hello I think you are a fuckwad Eat shit and die</td>\n",
       "      <td>0.994387</td>\n",
       "    </tr>\n",
       "    <tr>\n",
       "      <th>97256</th>\n",
       "      <td>OK, I've made another slew of blocks after con...</td>\n",
       "      <td>0</td>\n",
       "      <td>OK I ve made another slew of blocks after conf...</td>\n",
       "      <td>OK I ve made another slew of block after confi...</td>\n",
       "      <td>0.039741</td>\n",
       "    </tr>\n",
       "    <tr>\n",
       "      <th>73261</th>\n",
       "      <td>Lunar Eclipse?? \\n\\nThese happen at least 2 ti...</td>\n",
       "      <td>0</td>\n",
       "      <td>Lunar Eclipse These happen at least times each...</td>\n",
       "      <td>Lunar Eclipse These happen at least time each ...</td>\n",
       "      <td>0.043955</td>\n",
       "    </tr>\n",
       "    <tr>\n",
       "      <th>...</th>\n",
       "      <td>...</td>\n",
       "      <td>...</td>\n",
       "      <td>...</td>\n",
       "      <td>...</td>\n",
       "      <td>...</td>\n",
       "    </tr>\n",
       "    <tr>\n",
       "      <th>39590</th>\n",
       "      <td>I swear to God, I will leave everything on Wik...</td>\n",
       "      <td>0</td>\n",
       "      <td>I swear to God I will leave everything on Wiki...</td>\n",
       "      <td>I swear to God I will leave everything on Wiki...</td>\n",
       "      <td>0.154488</td>\n",
       "    </tr>\n",
       "    <tr>\n",
       "      <th>152255</th>\n",
       "      <td>Churchill  \\n\\nThat's not true. It is as much ...</td>\n",
       "      <td>0</td>\n",
       "      <td>Churchill That s not true It is as much of a P...</td>\n",
       "      <td>Churchill That s not true It is a much of a PO...</td>\n",
       "      <td>0.070377</td>\n",
       "    </tr>\n",
       "    <tr>\n",
       "      <th>29975</th>\n",
       "      <td>\"\\n\\nWhat are you talking about?\\n\\nRegarding ...</td>\n",
       "      <td>0</td>\n",
       "      <td>What are you talking about Regarding this edit...</td>\n",
       "      <td>What are you talking about Regarding this edit...</td>\n",
       "      <td>0.011154</td>\n",
       "    </tr>\n",
       "    <tr>\n",
       "      <th>38434</th>\n",
       "      <td>\"\\nThank you kindly, .  Whatever you did, the ...</td>\n",
       "      <td>0</td>\n",
       "      <td>Thank you kindly Whatever you did the emoji da...</td>\n",
       "      <td>Thank you kindly Whatever you did the emoji da...</td>\n",
       "      <td>0.033587</td>\n",
       "    </tr>\n",
       "    <tr>\n",
       "      <th>86944</th>\n",
       "      <td>I'm with Phil on this one - please help mainta...</td>\n",
       "      <td>0</td>\n",
       "      <td>I m with Phil on this one please help maintain...</td>\n",
       "      <td>I m with Phil on this one please help maintain...</td>\n",
       "      <td>0.023939</td>\n",
       "    </tr>\n",
       "  </tbody>\n",
       "</table>\n",
       "<p>7965 rows × 5 columns</p>\n",
       "</div>"
      ],
      "text/plain": [
       "                                                     text  toxic  \\\n",
       "153838                       Is Sagbliss a bigamist ?????      0   \n",
       "51445   One last thing... \\n\\nYou are a thundercunt of...      0   \n",
       "31684   Hello, I think you are a fuckwad. Eat shit and...      1   \n",
       "97256   OK, I've made another slew of blocks after con...      0   \n",
       "73261   Lunar Eclipse?? \\n\\nThese happen at least 2 ti...      0   \n",
       "...                                                   ...    ...   \n",
       "39590   I swear to God, I will leave everything on Wik...      0   \n",
       "152255  Churchill  \\n\\nThat's not true. It is as much ...      0   \n",
       "29975   \"\\n\\nWhat are you talking about?\\n\\nRegarding ...      0   \n",
       "38434   \"\\nThank you kindly, .  Whatever you did, the ...      0   \n",
       "86944   I'm with Phil on this one - please help mainta...      0   \n",
       "\n",
       "                                                  text_re  \\\n",
       "153838                             Is Sagbliss a bigamist   \n",
       "51445   One last thing You are a thundercunt of Piers ...   \n",
       "31684    Hello I think you are a fuckwad Eat shit and die   \n",
       "97256   OK I ve made another slew of blocks after conf...   \n",
       "73261   Lunar Eclipse These happen at least times each...   \n",
       "...                                                   ...   \n",
       "39590   I swear to God I will leave everything on Wiki...   \n",
       "152255  Churchill That s not true It is as much of a P...   \n",
       "29975   What are you talking about Regarding this edit...   \n",
       "38434   Thank you kindly Whatever you did the emoji da...   \n",
       "86944   I m with Phil on this one please help maintain...   \n",
       "\n",
       "                                          lemmatized_text    y_pred  \n",
       "153838                             Is Sagbliss a bigamist  0.076587  \n",
       "51445   One last thing You are a thundercunt of Piers ...  0.064129  \n",
       "31684    Hello I think you are a fuckwad Eat shit and die  0.994387  \n",
       "97256   OK I ve made another slew of block after confi...  0.039741  \n",
       "73261   Lunar Eclipse These happen at least time each ...  0.043955  \n",
       "...                                                   ...       ...  \n",
       "39590   I swear to God I will leave everything on Wiki...  0.154488  \n",
       "152255  Churchill That s not true It is a much of a PO...  0.070377  \n",
       "29975   What are you talking about Regarding this edit...  0.011154  \n",
       "38434   Thank you kindly Whatever you did the emoji da...  0.033587  \n",
       "86944   I m with Phil on this one please help maintain...  0.023939  \n",
       "\n",
       "[7965 rows x 5 columns]"
      ]
     },
     "execution_count": 18,
     "metadata": {},
     "output_type": "execute_result"
    }
   ],
   "source": [
    "val['y_pred'] = model.predict_proba(X_val)[:,1]\n",
    "val"
   ]
  },
  {
   "cell_type": "markdown",
   "id": "d88764e5",
   "metadata": {},
   "source": [
    "Для более точного предсказания подберем порог для максимальной метрики `F1`. Для  этого создадим список порогов от `0` до `1` с шагом `0.01`, воспользовавшись библиотекой `numpy`."
   ]
  },
  {
   "cell_type": "code",
   "execution_count": 19,
   "id": "4d61a9e9",
   "metadata": {
    "colab": {
     "base_uri": "https://localhost:8080/"
    },
    "executionInfo": {
     "elapsed": 54,
     "status": "ok",
     "timestamp": 1699335954056,
     "user": {
      "displayName": "Юлия Л.",
      "userId": "01831128222437638053"
     },
     "user_tz": -180
    },
    "id": "4d61a9e9",
    "outputId": "adfb0401-912e-4dba-8858-b68835702b30"
   },
   "outputs": [
    {
     "data": {
      "text/plain": [
       "array([0.  , 0.01, 0.02, 0.03, 0.04, 0.05, 0.06, 0.07, 0.08, 0.09, 0.1 ,\n",
       "       0.11, 0.12, 0.13, 0.14, 0.15, 0.16, 0.17, 0.18, 0.19, 0.2 , 0.21,\n",
       "       0.22, 0.23, 0.24, 0.25, 0.26, 0.27, 0.28, 0.29, 0.3 , 0.31, 0.32,\n",
       "       0.33, 0.34, 0.35, 0.36, 0.37, 0.38, 0.39, 0.4 , 0.41, 0.42, 0.43,\n",
       "       0.44, 0.45, 0.46, 0.47, 0.48, 0.49, 0.5 , 0.51, 0.52, 0.53, 0.54,\n",
       "       0.55, 0.56, 0.57, 0.58, 0.59, 0.6 , 0.61, 0.62, 0.63, 0.64, 0.65,\n",
       "       0.66, 0.67, 0.68, 0.69, 0.7 , 0.71, 0.72, 0.73, 0.74, 0.75, 0.76,\n",
       "       0.77, 0.78, 0.79, 0.8 , 0.81, 0.82, 0.83, 0.84, 0.85, 0.86, 0.87,\n",
       "       0.88, 0.89, 0.9 , 0.91, 0.92, 0.93, 0.94, 0.95, 0.96, 0.97, 0.98,\n",
       "       0.99, 1.  ])"
      ]
     },
     "execution_count": 19,
     "metadata": {},
     "output_type": "execute_result"
    }
   ],
   "source": [
    "np.linspace(0,1,101)"
   ]
  },
  {
   "cell_type": "markdown",
   "id": "e0843c16",
   "metadata": {},
   "source": [
    "Теперь сформируем список порогов и метрики `F1` на базе предсказаний на валидационной выборке в колонке `y_pred` и выведем на экран график метрики в зависимости от порога."
   ]
  },
  {
   "cell_type": "code",
   "execution_count": 66,
   "id": "02190410",
   "metadata": {
    "colab": {
     "base_uri": "https://localhost:8080/"
    },
    "executionInfo": {
     "elapsed": 872,
     "status": "ok",
     "timestamp": 1699335954883,
     "user": {
      "displayName": "Юлия Л.",
      "userId": "01831128222437638053"
     },
     "user_tz": -180
    },
    "id": "02190410",
    "outputId": "e30dc952-9cb5-4791-815c-73269d8379eb"
   },
   "outputs": [
    {
     "name": "stderr",
     "output_type": "stream",
     "text": [
      "100%|██████████| 101/101 [00:00<00:00, 294.18it/s]\n"
     ]
    },
    {
     "data": {
      "image/png": "[encoded data removed]",
      "text/plain": [
       "<Figure size 432x288 with 1 Axes>"
      ]
     },
     "metadata": {
      "needs_background": "light"
     },
     "output_type": "display_data"
    }
   ],
   "source": [
    "rez = []\n",
    "\n",
    "for thr in tqdm(np.linspace(0,1,101)):\n",
    "    rez.append((thr, f1_score(y_val, val['y_pred']>thr)))\n",
    "    \n",
    "df_f1 = pd.DataFrame(rez, columns=['thr', 'f1'])\n",
    "df_f1.set_index('thr').plot()\n",
    "plt.title(\"Линейная регрессия: График F1-меры в зависимости от порогового значения\")\n",
    "plt.xlabel(\"Пороговое значение\")\n",
    "plt.ylabel(\"F1-мера\")\n",
    "plt.show()"
   ]
  },
  {
   "cell_type": "markdown",
   "id": "673f16a4",
   "metadata": {},
   "source": [
    "Согласно графику мы видим, что `F1` достигает своего максимума  в районе порогов `0.2-0.3`, далее она планомерно идет на убыль. Отсортируем значения по убыванию метрики и посмотрим порог с наибольшей `F1`."
   ]
  },
  {
   "cell_type": "code",
   "execution_count": 22,
   "id": "8e18738a",
   "metadata": {
    "colab": {
     "base_uri": "https://localhost:8080/",
     "height": 424
    },
    "executionInfo": {
     "elapsed": 25,
     "status": "ok",
     "timestamp": 1699335955331,
     "user": {
      "displayName": "Юлия Л.",
      "userId": "01831128222437638053"
     },
     "user_tz": -180
    },
    "id": "8e18738a",
    "outputId": "f148794e-5743-456e-a984-04873b6860bd"
   },
   "outputs": [
    {
     "data": {
      "text/html": [
       "<div>\n",
       "<style scoped>\n",
       "    .dataframe tbody tr th:only-of-type {\n",
       "        vertical-align: middle;\n",
       "    }\n",
       "\n",
       "    .dataframe tbody tr th {\n",
       "        vertical-align: top;\n",
       "    }\n",
       "\n",
       "    .dataframe thead th {\n",
       "        text-align: right;\n",
       "    }\n",
       "</style>\n",
       "<table border=\"1\" class=\"dataframe\">\n",
       "  <thead>\n",
       "    <tr style=\"text-align: right;\">\n",
       "      <th></th>\n",
       "      <th>thr</th>\n",
       "      <th>f1</th>\n",
       "    </tr>\n",
       "  </thead>\n",
       "  <tbody>\n",
       "    <tr>\n",
       "      <th>29</th>\n",
       "      <td>0.29</td>\n",
       "      <td>0.786594</td>\n",
       "    </tr>\n",
       "    <tr>\n",
       "      <th>28</th>\n",
       "      <td>0.28</td>\n",
       "      <td>0.786441</td>\n",
       "    </tr>\n",
       "    <tr>\n",
       "      <th>25</th>\n",
       "      <td>0.25</td>\n",
       "      <td>0.785904</td>\n",
       "    </tr>\n",
       "    <tr>\n",
       "      <th>26</th>\n",
       "      <td>0.26</td>\n",
       "      <td>0.785571</td>\n",
       "    </tr>\n",
       "    <tr>\n",
       "      <th>27</th>\n",
       "      <td>0.27</td>\n",
       "      <td>0.784367</td>\n",
       "    </tr>\n",
       "    <tr>\n",
       "      <th>...</th>\n",
       "      <td>...</td>\n",
       "      <td>...</td>\n",
       "    </tr>\n",
       "    <tr>\n",
       "      <th>99</th>\n",
       "      <td>0.99</td>\n",
       "      <td>0.314534</td>\n",
       "    </tr>\n",
       "    <tr>\n",
       "      <th>2</th>\n",
       "      <td>0.02</td>\n",
       "      <td>0.292211</td>\n",
       "    </tr>\n",
       "    <tr>\n",
       "      <th>1</th>\n",
       "      <td>0.01</td>\n",
       "      <td>0.230415</td>\n",
       "    </tr>\n",
       "    <tr>\n",
       "      <th>0</th>\n",
       "      <td>0.00</td>\n",
       "      <td>0.177763</td>\n",
       "    </tr>\n",
       "    <tr>\n",
       "      <th>100</th>\n",
       "      <td>1.00</td>\n",
       "      <td>0.000000</td>\n",
       "    </tr>\n",
       "  </tbody>\n",
       "</table>\n",
       "<p>101 rows × 2 columns</p>\n",
       "</div>"
      ],
      "text/plain": [
       "      thr        f1\n",
       "29   0.29  0.786594\n",
       "28   0.28  0.786441\n",
       "25   0.25  0.785904\n",
       "26   0.26  0.785571\n",
       "27   0.27  0.784367\n",
       "..    ...       ...\n",
       "99   0.99  0.314534\n",
       "2    0.02  0.292211\n",
       "1    0.01  0.230415\n",
       "0    0.00  0.177763\n",
       "100  1.00  0.000000\n",
       "\n",
       "[101 rows x 2 columns]"
      ]
     },
     "execution_count": 22,
     "metadata": {},
     "output_type": "execute_result"
    }
   ],
   "source": [
    "df_f1.sort_values('f1', ascending=False)"
   ]
  },
  {
   "cell_type": "markdown",
   "id": "5cbce767",
   "metadata": {},
   "source": [
    "У модели `Линейная регрессия` наилучший показатель `F1` составляет `0.79` и достигается при пороге в `0.29`."
   ]
  },
  {
   "cell_type": "markdown",
   "id": "0e097485",
   "metadata": {
    "id": "0e097485"
   },
   "source": [
    "- **CatBoost**"
   ]
  },
  {
   "cell_type": "markdown",
   "id": "d6f43cb2",
   "metadata": {},
   "source": [
    "CatBoostClassifier имеет собственные методы TF-IDF, поэтому предварительного преобразования текста не требует. Укажем для модели колонку `lemmatized_text` с очищенным и лемматизированным текстом как признак и как текстовую колонку для указании в модели далее, а также целевой признак `toxic`."
   ]
  },
  {
   "cell_type": "code",
   "execution_count": 23,
   "id": "594c4c33",
   "metadata": {
    "executionInfo": {
     "elapsed": 23,
     "status": "ok",
     "timestamp": 1699335955332,
     "user": {
      "displayName": "Юлия Л.",
      "userId": "01831128222437638053"
     },
     "user_tz": -180
    },
    "id": "594c4c33"
   },
   "outputs": [],
   "source": [
    "X = ['lemmatized_text']\n",
    "text_features = ['lemmatized_text']\n",
    "y = ['toxic']"
   ]
  },
  {
   "cell_type": "markdown",
   "id": "4f415c82",
   "metadata": {},
   "source": [
    "Обучим нашу модель. Для этого укажем, что работаем с текстом и в какой колонке он находится через параметр `text_features`. Обучение проведем на базе оценки на валидационной выборке по метрике `ROC-AUC` и впоследствии подберем днаиболее подходящий порог."
   ]
  },
  {
   "cell_type": "code",
   "execution_count": 85,
   "id": "d2bb0834",
   "metadata": {
    "colab": {
     "base_uri": "https://localhost:8080/"
    },
    "executionInfo": {
     "elapsed": 366143,
     "status": "ok",
     "timestamp": 1699336867896,
     "user": {
      "displayName": "Юлия Л.",
      "userId": "01831128222437638053"
     },
     "user_tz": -180
    },
    "id": "d2bb0834",
    "outputId": "3ad2729f-cc89-42dc-bb4b-c9ed343c0413"
   },
   "outputs": [
    {
     "name": "stdout",
     "output_type": "stream",
     "text": [
      "0:\ttest: 0.8619620\tbest: 0.8619620 (0)\ttotal: 131ms\tremaining: 2m 10s\n",
      "100:\ttest: 0.9436342\tbest: 0.9436342 (100)\ttotal: 16.5s\tremaining: 2m 26s\n",
      "200:\ttest: 0.9511563\tbest: 0.9511563 (200)\ttotal: 35.2s\tremaining: 2m 20s\n",
      "300:\ttest: 0.9554187\tbest: 0.9554187 (300)\ttotal: 53.8s\tremaining: 2m 5s\n",
      "400:\ttest: 0.9580403\tbest: 0.9580403 (400)\ttotal: 1m 14s\tremaining: 1m 50s\n",
      "500:\ttest: 0.9594240\tbest: 0.9594240 (500)\ttotal: 1m 33s\tremaining: 1m 32s\n",
      "600:\ttest: 0.9603446\tbest: 0.9603446 (599)\ttotal: 1m 53s\tremaining: 1m 15s\n",
      "700:\ttest: 0.9612373\tbest: 0.9612373 (700)\ttotal: 2m 14s\tremaining: 57.4s\n",
      "800:\ttest: 0.9616426\tbest: 0.9616480 (799)\ttotal: 2m 36s\tremaining: 38.8s\n",
      "900:\ttest: 0.9620188\tbest: 0.9620353 (894)\ttotal: 2m 55s\tremaining: 19.2s\n",
      "999:\ttest: 0.9622156\tbest: 0.9622490 (984)\ttotal: 3m 13s\tremaining: 0us\n",
      "\n",
      "bestTest = 0.9622490365\n",
      "bestIteration = 984\n",
      "\n",
      "Shrink model to first 985 iterations.\n"
     ]
    },
    {
     "data": {
      "text/plain": [
       "<catboost.core.CatBoostClassifier at 0x21ba7e2a8b0>"
      ]
     },
     "execution_count": 85,
     "metadata": {},
     "output_type": "execute_result"
    }
   ],
   "source": [
    "params = {'eval_metric': 'AUC',\n",
    "          'learning_rate': 0.04,\n",
    "          'early_stopping_rounds': 100,\n",
    "          'text_features': text_features,\n",
    "          'verbose': 100}\n",
    "\n",
    "model = CatBoostClassifier(**params, random_state=42)\n",
    "model.fit(train[X], train[y], eval_set=(val[X], val[y]))"
   ]
  },
  {
   "cell_type": "code",
   "execution_count": 87,
   "id": "d2be616c",
   "metadata": {
    "colab": {
     "base_uri": "https://localhost:8080/",
     "height": 424
    },
    "executionInfo": {
     "elapsed": 586,
     "status": "ok",
     "timestamp": 1699336868445,
     "user": {
      "displayName": "Юлия Л.",
      "userId": "01831128222437638053"
     },
     "user_tz": -180
    },
    "id": "d2be616c",
    "outputId": "eb576d86-2f1d-42af-b002-08dffcb1da74"
   },
   "outputs": [
    {
     "data": {
      "text/html": [
       "<div>\n",
       "<style scoped>\n",
       "    .dataframe tbody tr th:only-of-type {\n",
       "        vertical-align: middle;\n",
       "    }\n",
       "\n",
       "    .dataframe tbody tr th {\n",
       "        vertical-align: top;\n",
       "    }\n",
       "\n",
       "    .dataframe thead th {\n",
       "        text-align: right;\n",
       "    }\n",
       "</style>\n",
       "<table border=\"1\" class=\"dataframe\">\n",
       "  <thead>\n",
       "    <tr style=\"text-align: right;\">\n",
       "      <th></th>\n",
       "      <th>text</th>\n",
       "      <th>toxic</th>\n",
       "      <th>text_re</th>\n",
       "      <th>lemmatized_text</th>\n",
       "      <th>y_pred</th>\n",
       "      <th>detox_y_score</th>\n",
       "    </tr>\n",
       "  </thead>\n",
       "  <tbody>\n",
       "    <tr>\n",
       "      <th>153838</th>\n",
       "      <td>Is Sagbliss a bigamist ?????</td>\n",
       "      <td>0</td>\n",
       "      <td>Is Sagbliss a bigamist</td>\n",
       "      <td>Is Sagbliss a bigamist</td>\n",
       "      <td>0.068443</td>\n",
       "      <td>0.063645</td>\n",
       "    </tr>\n",
       "    <tr>\n",
       "      <th>51445</th>\n",
       "      <td>One last thing... \\n\\nYou are a thundercunt of...</td>\n",
       "      <td>0</td>\n",
       "      <td>One last thing You are a thundercunt of Piers ...</td>\n",
       "      <td>One last thing You are a thundercunt of Piers ...</td>\n",
       "      <td>0.112893</td>\n",
       "      <td>0.097799</td>\n",
       "    </tr>\n",
       "    <tr>\n",
       "      <th>31684</th>\n",
       "      <td>Hello, I think you are a fuckwad. Eat shit and...</td>\n",
       "      <td>1</td>\n",
       "      <td>Hello I think you are a fuckwad Eat shit and die</td>\n",
       "      <td>Hello I think you are a fuckwad Eat shit and die</td>\n",
       "      <td>0.995054</td>\n",
       "      <td>0.996711</td>\n",
       "    </tr>\n",
       "    <tr>\n",
       "      <th>97256</th>\n",
       "      <td>OK, I've made another slew of blocks after con...</td>\n",
       "      <td>0</td>\n",
       "      <td>OK I ve made another slew of blocks after conf...</td>\n",
       "      <td>OK I ve made another slew of block after confi...</td>\n",
       "      <td>0.013550</td>\n",
       "      <td>0.022620</td>\n",
       "    </tr>\n",
       "    <tr>\n",
       "      <th>73261</th>\n",
       "      <td>Lunar Eclipse?? \\n\\nThese happen at least 2 ti...</td>\n",
       "      <td>0</td>\n",
       "      <td>Lunar Eclipse These happen at least times each...</td>\n",
       "      <td>Lunar Eclipse These happen at least time each ...</td>\n",
       "      <td>0.008050</td>\n",
       "      <td>0.000601</td>\n",
       "    </tr>\n",
       "    <tr>\n",
       "      <th>...</th>\n",
       "      <td>...</td>\n",
       "      <td>...</td>\n",
       "      <td>...</td>\n",
       "      <td>...</td>\n",
       "      <td>...</td>\n",
       "      <td>...</td>\n",
       "    </tr>\n",
       "    <tr>\n",
       "      <th>39590</th>\n",
       "      <td>I swear to God, I will leave everything on Wik...</td>\n",
       "      <td>0</td>\n",
       "      <td>I swear to God I will leave everything on Wiki...</td>\n",
       "      <td>I swear to God I will leave everything on Wiki...</td>\n",
       "      <td>0.033134</td>\n",
       "      <td>0.003192</td>\n",
       "    </tr>\n",
       "    <tr>\n",
       "      <th>152255</th>\n",
       "      <td>Churchill  \\n\\nThat's not true. It is as much ...</td>\n",
       "      <td>0</td>\n",
       "      <td>Churchill That s not true It is as much of a P...</td>\n",
       "      <td>Churchill That s not true It is a much of a PO...</td>\n",
       "      <td>0.016740</td>\n",
       "      <td>0.009442</td>\n",
       "    </tr>\n",
       "    <tr>\n",
       "      <th>29975</th>\n",
       "      <td>\"\\n\\nWhat are you talking about?\\n\\nRegarding ...</td>\n",
       "      <td>0</td>\n",
       "      <td>What are you talking about Regarding this edit...</td>\n",
       "      <td>What are you talking about Regarding this edit...</td>\n",
       "      <td>0.021920</td>\n",
       "      <td>0.000839</td>\n",
       "    </tr>\n",
       "    <tr>\n",
       "      <th>38434</th>\n",
       "      <td>\"\\nThank you kindly, .  Whatever you did, the ...</td>\n",
       "      <td>0</td>\n",
       "      <td>Thank you kindly Whatever you did the emoji da...</td>\n",
       "      <td>Thank you kindly Whatever you did the emoji da...</td>\n",
       "      <td>0.005682</td>\n",
       "      <td>0.000725</td>\n",
       "    </tr>\n",
       "    <tr>\n",
       "      <th>86944</th>\n",
       "      <td>I'm with Phil on this one - please help mainta...</td>\n",
       "      <td>0</td>\n",
       "      <td>I m with Phil on this one please help maintain...</td>\n",
       "      <td>I m with Phil on this one please help maintain...</td>\n",
       "      <td>0.018112</td>\n",
       "      <td>0.000675</td>\n",
       "    </tr>\n",
       "  </tbody>\n",
       "</table>\n",
       "<p>7965 rows × 6 columns</p>\n",
       "</div>"
      ],
      "text/plain": [
       "                                                     text  toxic  \\\n",
       "153838                       Is Sagbliss a bigamist ?????      0   \n",
       "51445   One last thing... \\n\\nYou are a thundercunt of...      0   \n",
       "31684   Hello, I think you are a fuckwad. Eat shit and...      1   \n",
       "97256   OK, I've made another slew of blocks after con...      0   \n",
       "73261   Lunar Eclipse?? \\n\\nThese happen at least 2 ti...      0   \n",
       "...                                                   ...    ...   \n",
       "39590   I swear to God, I will leave everything on Wik...      0   \n",
       "152255  Churchill  \\n\\nThat's not true. It is as much ...      0   \n",
       "29975   \"\\n\\nWhat are you talking about?\\n\\nRegarding ...      0   \n",
       "38434   \"\\nThank you kindly, .  Whatever you did, the ...      0   \n",
       "86944   I'm with Phil on this one - please help mainta...      0   \n",
       "\n",
       "                                                  text_re  \\\n",
       "153838                             Is Sagbliss a bigamist   \n",
       "51445   One last thing You are a thundercunt of Piers ...   \n",
       "31684    Hello I think you are a fuckwad Eat shit and die   \n",
       "97256   OK I ve made another slew of blocks after conf...   \n",
       "73261   Lunar Eclipse These happen at least times each...   \n",
       "...                                                   ...   \n",
       "39590   I swear to God I will leave everything on Wiki...   \n",
       "152255  Churchill That s not true It is as much of a P...   \n",
       "29975   What are you talking about Regarding this edit...   \n",
       "38434   Thank you kindly Whatever you did the emoji da...   \n",
       "86944   I m with Phil on this one please help maintain...   \n",
       "\n",
       "                                          lemmatized_text    y_pred  \\\n",
       "153838                             Is Sagbliss a bigamist  0.068443   \n",
       "51445   One last thing You are a thundercunt of Piers ...  0.112893   \n",
       "31684    Hello I think you are a fuckwad Eat shit and die  0.995054   \n",
       "97256   OK I ve made another slew of block after confi...  0.013550   \n",
       "73261   Lunar Eclipse These happen at least time each ...  0.008050   \n",
       "...                                                   ...       ...   \n",
       "39590   I swear to God I will leave everything on Wiki...  0.033134   \n",
       "152255  Churchill That s not true It is a much of a PO...  0.016740   \n",
       "29975   What are you talking about Regarding this edit...  0.021920   \n",
       "38434   Thank you kindly Whatever you did the emoji da...  0.005682   \n",
       "86944   I m with Phil on this one please help maintain...  0.018112   \n",
       "\n",
       "        detox_y_score  \n",
       "153838       0.063645  \n",
       "51445        0.097799  \n",
       "31684        0.996711  \n",
       "97256        0.022620  \n",
       "73261        0.000601  \n",
       "...               ...  \n",
       "39590        0.003192  \n",
       "152255       0.009442  \n",
       "29975        0.000839  \n",
       "38434        0.000725  \n",
       "86944        0.000675  \n",
       "\n",
       "[7965 rows x 6 columns]"
      ]
     },
     "execution_count": 87,
     "metadata": {},
     "output_type": "execute_result"
    }
   ],
   "source": [
    "val['y_pred'] = model.predict_proba(val[X])[:,1]\n",
    "val"
   ]
  },
  {
   "cell_type": "markdown",
   "id": "a096ee8a",
   "metadata": {},
   "source": [
    "Cформируем список порогов и метрики `F1` на базе предсказаний на валидационной выборке в колонке `y_pred` и выведем на экран график метрики в зависимости от порога."
   ]
  },
  {
   "cell_type": "code",
   "execution_count": 88,
   "id": "c29a78de",
   "metadata": {
    "colab": {
     "base_uri": "https://localhost:8080/"
    },
    "executionInfo": {
     "elapsed": 995,
     "status": "ok",
     "timestamp": 1699336869421,
     "user": {
      "displayName": "Юлия Л.",
      "userId": "01831128222437638053"
     },
     "user_tz": -180
    },
    "id": "c29a78de",
    "outputId": "015b6abe-36c9-4247-c5f6-1c2935c7ecad"
   },
   "outputs": [
    {
     "name": "stderr",
     "output_type": "stream",
     "text": [
      "100%|██████████| 101/101 [00:00<00:00, 217.74it/s]\n"
     ]
    },
    {
     "data": {
      "image/png": "[encoded data removed]",
      "text/plain": [
       "<Figure size 432x288 with 1 Axes>"
      ]
     },
     "metadata": {
      "needs_background": "light"
     },
     "output_type": "display_data"
    }
   ],
   "source": [
    "rez = []\n",
    "\n",
    "for thr in tqdm(np.linspace(0,1,101)):\n",
    "    rez.append((thr, f1_score(val[y], val['y_pred']>thr)))\n",
    "    \n",
    "df_f1 = pd.DataFrame(rez, columns=['thr', 'f1'])\n",
    "df_f1.set_index('thr').plot()\n",
    "plt.title(\"CatBoost: График F1-меры в зависимости от порогового значения\")\n",
    "plt.xlabel(\"Пороговое значение\")\n",
    "plt.ylabel(\"F1-мера\")\n",
    "plt.show()"
   ]
  },
  {
   "cell_type": "markdown",
   "id": "ba386f03",
   "metadata": {},
   "source": [
    "Согласно графику мы видим, что `F1` достигает своего максимума  в районе порогов `0.3-0.4`, далее она идет на убыль. Отсортируем значения по убыванию метрики и посмотрим порог с наибольшей `F1`."
   ]
  },
  {
   "cell_type": "code",
   "execution_count": 89,
   "id": "79c3a081",
   "metadata": {
    "colab": {
     "base_uri": "https://localhost:8080/",
     "height": 424
    },
    "executionInfo": {
     "elapsed": 39,
     "status": "ok",
     "timestamp": 1699336869825,
     "user": {
      "displayName": "Юлия Л.",
      "userId": "01831128222437638053"
     },
     "user_tz": -180
    },
    "id": "79c3a081",
    "outputId": "a86b0d1d-5730-4cfa-b5f4-71cf9be727de"
   },
   "outputs": [
    {
     "data": {
      "text/html": [
       "<div>\n",
       "<style scoped>\n",
       "    .dataframe tbody tr th:only-of-type {\n",
       "        vertical-align: middle;\n",
       "    }\n",
       "\n",
       "    .dataframe tbody tr th {\n",
       "        vertical-align: top;\n",
       "    }\n",
       "\n",
       "    .dataframe thead th {\n",
       "        text-align: right;\n",
       "    }\n",
       "</style>\n",
       "<table border=\"1\" class=\"dataframe\">\n",
       "  <thead>\n",
       "    <tr style=\"text-align: right;\">\n",
       "      <th></th>\n",
       "      <th>thr</th>\n",
       "      <th>f1</th>\n",
       "    </tr>\n",
       "  </thead>\n",
       "  <tbody>\n",
       "    <tr>\n",
       "      <th>36</th>\n",
       "      <td>0.36</td>\n",
       "      <td>0.760471</td>\n",
       "    </tr>\n",
       "    <tr>\n",
       "      <th>35</th>\n",
       "      <td>0.35</td>\n",
       "      <td>0.760234</td>\n",
       "    </tr>\n",
       "    <tr>\n",
       "      <th>38</th>\n",
       "      <td>0.38</td>\n",
       "      <td>0.759628</td>\n",
       "    </tr>\n",
       "    <tr>\n",
       "      <th>40</th>\n",
       "      <td>0.40</td>\n",
       "      <td>0.759085</td>\n",
       "    </tr>\n",
       "    <tr>\n",
       "      <th>37</th>\n",
       "      <td>0.37</td>\n",
       "      <td>0.758711</td>\n",
       "    </tr>\n",
       "    <tr>\n",
       "      <th>...</th>\n",
       "      <td>...</td>\n",
       "      <td>...</td>\n",
       "    </tr>\n",
       "    <tr>\n",
       "      <th>98</th>\n",
       "      <td>0.98</td>\n",
       "      <td>0.395062</td>\n",
       "    </tr>\n",
       "    <tr>\n",
       "      <th>99</th>\n",
       "      <td>0.99</td>\n",
       "      <td>0.304679</td>\n",
       "    </tr>\n",
       "    <tr>\n",
       "      <th>1</th>\n",
       "      <td>0.01</td>\n",
       "      <td>0.283183</td>\n",
       "    </tr>\n",
       "    <tr>\n",
       "      <th>0</th>\n",
       "      <td>0.00</td>\n",
       "      <td>0.177763</td>\n",
       "    </tr>\n",
       "    <tr>\n",
       "      <th>100</th>\n",
       "      <td>1.00</td>\n",
       "      <td>0.000000</td>\n",
       "    </tr>\n",
       "  </tbody>\n",
       "</table>\n",
       "<p>101 rows × 2 columns</p>\n",
       "</div>"
      ],
      "text/plain": [
       "      thr        f1\n",
       "36   0.36  0.760471\n",
       "35   0.35  0.760234\n",
       "38   0.38  0.759628\n",
       "40   0.40  0.759085\n",
       "37   0.37  0.758711\n",
       "..    ...       ...\n",
       "98   0.98  0.395062\n",
       "99   0.99  0.304679\n",
       "1    0.01  0.283183\n",
       "0    0.00  0.177763\n",
       "100  1.00  0.000000\n",
       "\n",
       "[101 rows x 2 columns]"
      ]
     },
     "execution_count": 89,
     "metadata": {},
     "output_type": "execute_result"
    }
   ],
   "source": [
    "df_f1.sort_values('f1', ascending=False)"
   ]
  },
  {
   "cell_type": "markdown",
   "id": "8b5f8cce",
   "metadata": {},
   "source": [
    "У модели `CatBoost` наилучший показатель `F1` составляет `0.76` и достигается при пороге в `0.36`."
   ]
  },
  {
   "cell_type": "markdown",
   "id": "d0867152",
   "metadata": {
    "id": "d0867152"
   },
   "source": [
    "- Detoxify на базе BERT"
   ]
  },
  {
   "cell_type": "markdown",
   "id": "df11e648",
   "metadata": {},
   "source": [
    "`Detoxify` является обученной языковой моделью на базе нейронной сети `BERT`. Данная разновидность была разработана специально для определения токсчности комментариев и находится в открытом доступе:\n",
    "https://huggingface.co/unitary/toxic-bert\n",
    "\n",
    "Поскольку модель предобученная, поведем ее валидацию с подбором наиболее подходящего порога."
   ]
  },
  {
   "cell_type": "code",
   "execution_count": 32,
   "id": "dd22a557",
   "metadata": {
    "executionInfo": {
     "elapsed": 17,
     "status": "ok",
     "timestamp": 1699336211496,
     "user": {
      "displayName": "Юлия Л.",
      "userId": "01831128222437638053"
     },
     "user_tz": -180
    },
    "id": "dd22a557"
   },
   "outputs": [],
   "source": [
    "def detox(txt):\n",
    "    return Detoxify('original').predict(txt)['toxicity']\n",
    "\n",
    "val['detox_y_score'] = val['lemmatized_text'].progress_apply(detox)"
   ]
  },
  {
   "cell_type": "markdown",
   "id": "208ed7d5",
   "metadata": {},
   "source": [
    "Переберем также все пороги с шагом `0.01` и определим для каждого `F1`, визуализируем результаты."
   ]
  },
  {
   "cell_type": "code",
   "execution_count": 68,
   "id": "07d7eed4",
   "metadata": {
    "colab": {
     "base_uri": "https://localhost:8080/",
     "height": 1000,
     "referenced_widgets": [
      "d902463228044d63943d787fa5701673",
      "c499420fe6c54d9a9b5b079037e51cbf",
      "d9ac074657ae447194431b73700b1e4e",
      "2cd5ea6d3cc74a5fa5418c145a5853de",
      "546d1d6e72ed42249823018431eaf6aa",
      "266d213665ac400580d2149aa8f99e59",
      "19b0cc72217f4660a5f549c18303de01",
      "b0245701242d4d78a1e8923704d29292",
      "54a82e402975449aa396c8a43e4b26fb",
      "2fd85232d3474d4391d18a0b38ac1ec9",
      "0b05ae06c9df46b6bd88bf15cdc946c2",
      "5e3703f9f7884887b56437c37b0d0e08",
      "314fec1abf364f63af531a017657263c",
      "0f7df1642b574bcdbcad2a869baa2d6e",
      "bee727af5d9a4720af2e60e8fb5bd721",
      "ab69741dce8c4724a1063a0193a0ad84",
      "1bb47f902bb34d07b2f3f05ed92adbda",
      "cc9e0b549bde4603bbdb7b7fb2aa90ea",
      "a86e4159a0db40a6b489d5b77b1a4fab",
      "00c02a513d5d496b9dc0616af276b7e2",
      "892b8aaae0d5432c8fa4ede17add0efb",
      "30d74f28020e4713a2deb7b364781e5f",
      "82f2341df3d943d2a5f8c81c0dd03681",
      "4025595f03534994b473ecce80fabcc9",
      "4abd74a3a87c44f78aa2ca4f4a94ab4e",
      "50b5554e3921442d9cb01c0bc0f08e7b",
      "8983bc0157d047e3a641674bc9638758",
      "a2620dac7f0446e5b494856ed4d3f0f5",
      "7f4345f812b1420da95269bc8c8b798b",
      "5a391e9dfe8c4b0c80cdf094588ef8b5",
      "1d1e86e3932c49bfa26cb794cbd715ee",
      "8bf049de3723473fa087d81290a99c2b",
      "1f9e1976a2684b1b8c848df2314bee07"
     ]
    },
    "executionInfo": {
     "elapsed": 205700,
     "status": "error",
     "timestamp": 1699336417180,
     "user": {
      "displayName": "Юлия Л.",
      "userId": "01831128222437638053"
     },
     "user_tz": -180
    },
    "id": "e95f3849",
    "outputId": "b7bdaab9-47df-4a5b-c34a-c57291218660",
    "scrolled": true
   },
   "outputs": [
    {
     "name": "stderr",
     "output_type": "stream",
     "text": [
      "100%|██████████| 101/101 [00:00<00:00, 225.97it/s]\n"
     ]
    },
    {
     "data": {
      "image/png": "[encoded data removed]",
      "text/plain": [
       "<Figure size 432x288 with 1 Axes>"
      ]
     },
     "metadata": {
      "needs_background": "light"
     },
     "output_type": "display_data"
    }
   ],
   "source": [
    "rez_detox = []\n",
    "\n",
    "for thr in tqdm(np.linspace(0,1,101)):\n",
    "    rez_detox.append((thr, f1_score(val[y], val['detox_y_score']>thr)))\n",
    "    \n",
    "df_detox = pd.DataFrame(rez_detox, columns=['thr', 'f1'])\n",
    "df_detox.set_index('thr').plot()\n",
    "plt.title(\"CatBoost: График F1-меры в зависимости от порогового значения\")\n",
    "plt.xlabel(\"Пороговое значение\")\n",
    "plt.ylabel(\"F1-мера\")\n",
    "plt.show()"
   ]
  },
  {
   "cell_type": "markdown",
   "id": "677199d7",
   "metadata": {},
   "source": [
    "Модель показывает достаточно высокую метрику `F1` на протяжении многих порогов. Ее максимум достигается в районе порогов `0.5-0.6`. Отсортируем значения по убыванию метрики и посмотрим порог с наибольшей `F1`."
   ]
  },
  {
   "cell_type": "code",
   "execution_count": 54,
   "id": "1542de3b",
   "metadata": {
    "executionInfo": {
     "elapsed": 28,
     "status": "aborted",
     "timestamp": 1699336417185,
     "user": {
      "displayName": "Юлия Л.",
      "userId": "01831128222437638053"
     },
     "user_tz": -180
    },
    "id": "1542de3b"
   },
   "outputs": [
    {
     "data": {
      "text/html": [
       "<div>\n",
       "<style scoped>\n",
       "    .dataframe tbody tr th:only-of-type {\n",
       "        vertical-align: middle;\n",
       "    }\n",
       "\n",
       "    .dataframe tbody tr th {\n",
       "        vertical-align: top;\n",
       "    }\n",
       "\n",
       "    .dataframe thead th {\n",
       "        text-align: right;\n",
       "    }\n",
       "</style>\n",
       "<table border=\"1\" class=\"dataframe\">\n",
       "  <thead>\n",
       "    <tr style=\"text-align: right;\">\n",
       "      <th></th>\n",
       "      <th>thr</th>\n",
       "      <th>f1</th>\n",
       "    </tr>\n",
       "  </thead>\n",
       "  <tbody>\n",
       "    <tr>\n",
       "      <th>54</th>\n",
       "      <td>0.54</td>\n",
       "      <td>0.914658</td>\n",
       "    </tr>\n",
       "    <tr>\n",
       "      <th>55</th>\n",
       "      <td>0.55</td>\n",
       "      <td>0.913613</td>\n",
       "    </tr>\n",
       "    <tr>\n",
       "      <th>50</th>\n",
       "      <td>0.50</td>\n",
       "      <td>0.912348</td>\n",
       "    </tr>\n",
       "    <tr>\n",
       "      <th>51</th>\n",
       "      <td>0.51</td>\n",
       "      <td>0.912010</td>\n",
       "    </tr>\n",
       "    <tr>\n",
       "      <th>56</th>\n",
       "      <td>0.56</td>\n",
       "      <td>0.911958</td>\n",
       "    </tr>\n",
       "    <tr>\n",
       "      <th>...</th>\n",
       "      <td>...</td>\n",
       "      <td>...</td>\n",
       "    </tr>\n",
       "    <tr>\n",
       "      <th>1</th>\n",
       "      <td>0.01</td>\n",
       "      <td>0.557153</td>\n",
       "    </tr>\n",
       "    <tr>\n",
       "      <th>98</th>\n",
       "      <td>0.98</td>\n",
       "      <td>0.532578</td>\n",
       "    </tr>\n",
       "    <tr>\n",
       "      <th>99</th>\n",
       "      <td>0.99</td>\n",
       "      <td>0.458333</td>\n",
       "    </tr>\n",
       "    <tr>\n",
       "      <th>0</th>\n",
       "      <td>0.00</td>\n",
       "      <td>0.177763</td>\n",
       "    </tr>\n",
       "    <tr>\n",
       "      <th>100</th>\n",
       "      <td>1.00</td>\n",
       "      <td>0.000000</td>\n",
       "    </tr>\n",
       "  </tbody>\n",
       "</table>\n",
       "<p>101 rows × 2 columns</p>\n",
       "</div>"
      ],
      "text/plain": [
       "      thr        f1\n",
       "54   0.54  0.914658\n",
       "55   0.55  0.913613\n",
       "50   0.50  0.912348\n",
       "51   0.51  0.912010\n",
       "56   0.56  0.911958\n",
       "..    ...       ...\n",
       "1    0.01  0.557153\n",
       "98   0.98  0.532578\n",
       "99   0.99  0.458333\n",
       "0    0.00  0.177763\n",
       "100  1.00  0.000000\n",
       "\n",
       "[101 rows x 2 columns]"
      ]
     },
     "execution_count": 54,
     "metadata": {},
     "output_type": "execute_result"
    }
   ],
   "source": [
    "df_detox.sort_values('f1', ascending=False)"
   ]
  },
  {
   "cell_type": "markdown",
   "id": "1d190ec8",
   "metadata": {},
   "source": [
    "Модель `Detoxify` на базе `BERT` показывает очень высокие значения метрики качества, наилучший показатель `F1` составляет `0.91` и достигается при пороге в `0.54`.\n",
    "\n",
    "Выведем результаты обучения и валидации имеющихся моделей."
   ]
  },
  {
   "cell_type": "code",
   "execution_count": 90,
   "id": "332b7584",
   "metadata": {},
   "outputs": [
    {
     "data": {
      "text/html": [
       "<div>\n",
       "<style scoped>\n",
       "    .dataframe tbody tr th:only-of-type {\n",
       "        vertical-align: middle;\n",
       "    }\n",
       "\n",
       "    .dataframe tbody tr th {\n",
       "        vertical-align: top;\n",
       "    }\n",
       "\n",
       "    .dataframe thead th {\n",
       "        text-align: right;\n",
       "    }\n",
       "</style>\n",
       "<table border=\"1\" class=\"dataframe\">\n",
       "  <thead>\n",
       "    <tr style=\"text-align: right;\">\n",
       "      <th></th>\n",
       "      <th>Модель</th>\n",
       "      <th>F1 на валидационной выборке</th>\n",
       "    </tr>\n",
       "  </thead>\n",
       "  <tbody>\n",
       "    <tr>\n",
       "      <th>0</th>\n",
       "      <td>Логистическая регрессия</td>\n",
       "      <td>0.79</td>\n",
       "    </tr>\n",
       "    <tr>\n",
       "      <th>1</th>\n",
       "      <td>CatBoost</td>\n",
       "      <td>0.76</td>\n",
       "    </tr>\n",
       "    <tr>\n",
       "      <th>2</th>\n",
       "      <td>Detoxify на базе BERT</td>\n",
       "      <td>0.91</td>\n",
       "    </tr>\n",
       "  </tbody>\n",
       "</table>\n",
       "</div>"
      ],
      "text/plain": [
       "                    Модель  F1 на валидационной выборке\n",
       "0  Логистическая регрессия                         0.79\n",
       "1                 CatBoost                         0.76\n",
       "2    Detoxify на базе BERT                         0.91"
      ]
     },
     "execution_count": 90,
     "metadata": {},
     "output_type": "execute_result"
    }
   ],
   "source": [
    "df_score = pd.DataFrame(\n",
    "    {'Модель': ['Логистическая регрессия', 'CatBoost', 'Detoxify на базе BERT'],\n",
    "     'F1 на валидационной выборке': [0.79, 0.76, 0.91]\n",
    "    }\n",
    ")\n",
    "\n",
    "df_score"
   ]
  },
  {
   "cell_type": "markdown",
   "id": "739a4a6b",
   "metadata": {},
   "source": [
    "Для наглядности также визуализируем."
   ]
  },
  {
   "cell_type": "code",
   "execution_count": 91,
   "id": "6760f03e",
   "metadata": {},
   "outputs": [
    {
     "data": {
      "image/png": "[encoded data removed]",
      "text/plain": [
       "<Figure size 720x576 with 1 Axes>"
      ]
     },
     "metadata": {
      "needs_background": "light"
     },
     "output_type": "display_data"
    }
   ],
   "source": [
    "plt.figure(figsize=(10, 8))\n",
    "plt.bar(df_score['Модель'], df_score['F1 на валидационной выборке'])\n",
    "plt.xlabel('Модель')\n",
    "plt.ylabel('F1')\n",
    "plt.title('F1 на валидационной выборке')\n",
    "plt.show()"
   ]
  },
  {
   "cell_type": "markdown",
   "id": "ef287b34",
   "metadata": {},
   "source": [
    "Мы видим, что `Логистическа регрессия` и `CatBoost` дают примерно одинаковый результат. При этом языковая модель `Detoxify` на базе нейронной сети `BERT` отражает существенно более высокие результаты метрики `F1`.\n",
    "\n",
    "Обозначим порог с максимальной метрикой на валидационной выборке и проведем далее тестирование."
   ]
  },
  {
   "cell_type": "code",
   "execution_count": 55,
   "id": "109c03ec",
   "metadata": {
    "executionInfo": {
     "elapsed": 27,
     "status": "aborted",
     "timestamp": 1699336417186,
     "user": {
      "displayName": "Юлия Л.",
      "userId": "01831128222437638053"
     },
     "user_tz": -180
    },
    "id": "109c03ec"
   },
   "outputs": [
    {
     "name": "stdout",
     "output_type": "stream",
     "text": [
      "Порог при максимальном F1: 0.54\n"
     ]
    }
   ],
   "source": [
    "threshold_detox = df_detox.sort_values('f1', ascending=False).iloc[0]['thr']\n",
    "print(\"Порог при максимальном F1:\", round(threshold_detox,2))"
   ]
  },
  {
   "cell_type": "markdown",
   "id": "4c9da628",
   "metadata": {
    "id": "4c9da628"
   },
   "source": [
    "## 4. Тестирование лучшей модели"
   ]
  },
  {
   "cell_type": "markdown",
   "id": "97056a66",
   "metadata": {},
   "source": [
    "Для моделирования ситуации получния новых данных перед непосредственным тестированием проведем очистку и лемматизацию текста тестовой выборки."
   ]
  },
  {
   "cell_type": "code",
   "execution_count": 56,
   "id": "4d87f006",
   "metadata": {
    "executionInfo": {
     "elapsed": 4850,
     "status": "ok",
     "timestamp": 1699336472834,
     "user": {
      "displayName": "Юлия Л.",
      "userId": "01831128222437638053"
     },
     "user_tz": -180
    },
    "id": "4d87f006"
   },
   "outputs": [],
   "source": [
    "test['text_re'] = test['text'].apply(clear_text)\n",
    "test['lemmatized_text'] = test['text_re'].apply(lemmatize_text)"
   ]
  },
  {
   "cell_type": "markdown",
   "id": "9f7966f8",
   "metadata": {},
   "source": [
    "Предскажем вероятность классификации комментария к токсичным с помощью выбранной модели, которая была прописана ранее в процедуре `detox`."
   ]
  },
  {
   "cell_type": "code",
   "execution_count": 58,
   "id": "8c016766",
   "metadata": {
    "executionInfo": {
     "elapsed": 27,
     "status": "aborted",
     "timestamp": 1699336417190,
     "user": {
      "displayName": "Юлия Л.",
      "userId": "01831128222437638053"
     },
     "user_tz": -180
    },
    "id": "8c016766"
   },
   "outputs": [
    {
     "name": "stderr",
     "output_type": "stream",
     "text": [
      "100%|██████████| 7965/7965 [5:38:07<00:00,  2.55s/it]  \n"
     ]
    }
   ],
   "source": [
    "test['y_score'] = test['lemmatized_text'].progress_apply(detox)"
   ]
  },
  {
   "cell_type": "markdown",
   "id": "4c0e24c2",
   "metadata": {},
   "source": [
    "С помощью установленного на валидации порога определим ответы нашей модели и рассчитаем `F1` для теста."
   ]
  },
  {
   "cell_type": "code",
   "execution_count": 59,
   "id": "d29d1734",
   "metadata": {
    "executionInfo": {
     "elapsed": 26,
     "status": "aborted",
     "timestamp": 1699336417191,
     "user": {
      "displayName": "Юлия Л.",
      "userId": "01831128222437638053"
     },
     "user_tz": -180
    },
    "id": "d29d1734"
   },
   "outputs": [
    {
     "name": "stdout",
     "output_type": "stream",
     "text": [
      "F1 Score на тестовой выборке: 0.9117647058823529\n"
     ]
    }
   ],
   "source": [
    "f1 = f1_score(test[y], test['y_score']>threshold_detox)\n",
    "print(\"F1 Score на тестовой выборке:\", f1)"
   ]
  },
  {
   "cell_type": "markdown",
   "id": "f955b987",
   "metadata": {},
   "source": [
    "Метрика качества `F1` при определении токсичности комментариев на тестовой выборке составила `0.91`. Это достаточно высокий показатель точности. Условие задачи по значениею `F1 не меньше 0.75` выполнено."
   ]
  },
  {
   "cell_type": "markdown",
   "id": "c2d618f7",
   "metadata": {},
   "source": [
    "## 5. Выводы"
   ]
  },
  {
   "cell_type": "markdown",
   "id": "9b413e88",
   "metadata": {},
   "source": [
    "В рамках данного проекта необходимо было найти модель, которая будет предсказывать токсичность комментариев с метрикой качества `F1` не менее `0.75`. В ходе решения задачи была проделана следующая работа:\n",
    "1. Загружены, проанализированы и подготовлены данные с комментариями и признаком токсичности, на базе которых в дальнейшем будет проводиться обучение.\n",
    "2. Проведена очистка и лемматизация текста. Для `Логистической регрессии` проведено преобразование текста в матрицу TF-IDF.\n",
    "3. Обучены различные модели: `Логистическая регрессия`, `CatBoostClassifier`, а также использована предобученная языковая модель `Detoxify` на базе нейронной сети `BERT`. Для всех моделей на валидации были подобраны оптимальные для максимального `F1` пороги.\n",
    "4. Выбрана лучшая по метрике качества модель `Detoxify` на базе `BERT` с показателем `F1` на валидации `0.91`.\n",
    "5. Протестирована выбранная модель: метрика качества `F1` на тестовой выборке составила `0.91`. Условие задачи по значениею `F1 не меньше 0.75` выполнено."
   ]
  }
 ],
 "metadata": {
  "accelerator": "GPU",
  "colab": {
   "gpuType": "T4",
   "provenance": []
  },
  "kernelspec": {
   "display_name": "Python 3 (ipykernel)",
   "language": "python",
   "name": "python3"
  },
  "language_info": {
   "codemirror_mode": {
    "name": "ipython",
    "version": 3
   },
   "file_extension": ".py",
   "mimetype": "text/x-python",
   "name": "python",
   "nbconvert_exporter": "python",
   "pygments_lexer": "ipython3",
   "version": "3.9.5"
  },
  "toc": {
   "base_numbering": 1,
   "nav_menu": {},
   "number_sections": true,
   "sideBar": true,
   "skip_h1_title": true,
   "title_cell": "Table of Contents",
   "title_sidebar": "Contents",
   "toc_cell": false,
   "toc_position": {},
   "toc_section_display": true,
   "toc_window_display": false
  },
  "widgets": {
   "application/vnd.jupyter.widget-state+json": {
    "00c02a513d5d496b9dc0616af276b7e2": {
     "model_module": "@jupyter-widgets/controls",
     "model_module_version": "1.5.0",
     "model_name": "ProgressStyleModel",
     "state": {
      "_model_module": "@jupyter-widgets/controls",
      "_model_module_version": "1.5.0",
      "_model_name": "ProgressStyleModel",
      "_view_count": null,
      "_view_module": "@jupyter-widgets/base",
      "_view_module_version": "1.2.0",
      "_view_name": "StyleView",
      "bar_color": null,
      "description_width": ""
     }
    },
    "0b05ae06c9df46b6bd88bf15cdc946c2": {
     "model_module": "@jupyter-widgets/controls",
     "model_module_version": "1.5.0",
     "model_name": "DescriptionStyleModel",
     "state": {
      "_model_module": "@jupyter-widgets/controls",
      "_model_module_version": "1.5.0",
      "_model_name": "DescriptionStyleModel",
      "_view_count": null,
      "_view_module": "@jupyter-widgets/base",
      "_view_module_version": "1.2.0",
      "_view_name": "StyleView",
      "description_width": ""
     }
    },
    "0f7df1642b574bcdbcad2a869baa2d6e": {
     "model_module": "@jupyter-widgets/controls",
     "model_module_version": "1.5.0",
     "model_name": "FloatProgressModel",
     "state": {
      "_dom_classes": [],
      "_model_module": "@jupyter-widgets/controls",
      "_model_module_version": "1.5.0",
      "_model_name": "FloatProgressModel",
      "_view_count": null,
      "_view_module": "@jupyter-widgets/controls",
      "_view_module_version": "1.5.0",
      "_view_name": "ProgressView",
      "bar_style": "success",
      "description": "",
      "description_tooltip": null,
      "layout": "IPY_MODEL_a86e4159a0db40a6b489d5b77b1a4fab",
      "max": 231508,
      "min": 0,
      "orientation": "horizontal",
      "style": "IPY_MODEL_00c02a513d5d496b9dc0616af276b7e2",
      "value": 231508
     }
    },
    "19b0cc72217f4660a5f549c18303de01": {
     "model_module": "@jupyter-widgets/controls",
     "model_module_version": "1.5.0",
     "model_name": "DescriptionStyleModel",
     "state": {
      "_model_module": "@jupyter-widgets/controls",
      "_model_module_version": "1.5.0",
      "_model_name": "DescriptionStyleModel",
      "_view_count": null,
      "_view_module": "@jupyter-widgets/base",
      "_view_module_version": "1.2.0",
      "_view_name": "StyleView",
      "description_width": ""
     }
    },
    "1bb47f902bb34d07b2f3f05ed92adbda": {
     "model_module": "@jupyter-widgets/base",
     "model_module_version": "1.2.0",
     "model_name": "LayoutModel",
     "state": {
      "_model_module": "@jupyter-widgets/base",
      "_model_module_version": "1.2.0",
      "_model_name": "LayoutModel",
      "_view_count": null,
      "_view_module": "@jupyter-widgets/base",
      "_view_module_version": "1.2.0",
      "_view_name": "LayoutView",
      "align_content": null,
      "align_items": null,
      "align_self": null,
      "border": null,
      "bottom": null,
      "display": null,
      "flex": null,
      "flex_flow": null,
      "grid_area": null,
      "grid_auto_columns": null,
      "grid_auto_flow": null,
      "grid_auto_rows": null,
      "grid_column": null,
      "grid_gap": null,
      "grid_row": null,
      "grid_template_areas": null,
      "grid_template_columns": null,
      "grid_template_rows": null,
      "height": null,
      "justify_content": null,
      "justify_items": null,
      "left": null,
      "margin": null,
      "max_height": null,
      "max_width": null,
      "min_height": null,
      "min_width": null,
      "object_fit": null,
      "object_position": null,
      "order": null,
      "overflow": null,
      "overflow_x": null,
      "overflow_y": null,
      "padding": null,
      "right": null,
      "top": null,
      "visibility": null,
      "width": null
     }
    },
    "1d1e86e3932c49bfa26cb794cbd715ee": {
     "model_module": "@jupyter-widgets/controls",
     "model_module_version": "1.5.0",
     "model_name": "ProgressStyleModel",
     "state": {
      "_model_module": "@jupyter-widgets/controls",
      "_model_module_version": "1.5.0",
      "_model_name": "ProgressStyleModel",
      "_view_count": null,
      "_view_module": "@jupyter-widgets/base",
      "_view_module_version": "1.2.0",
      "_view_name": "StyleView",
      "bar_color": null,
      "description_width": ""
     }
    },
    "1f9e1976a2684b1b8c848df2314bee07": {
     "model_module": "@jupyter-widgets/controls",
     "model_module_version": "1.5.0",
     "model_name": "DescriptionStyleModel",
     "state": {
      "_model_module": "@jupyter-widgets/controls",
      "_model_module_version": "1.5.0",
      "_model_name": "DescriptionStyleModel",
      "_view_count": null,
      "_view_module": "@jupyter-widgets/base",
      "_view_module_version": "1.2.0",
      "_view_name": "StyleView",
      "description_width": ""
     }
    },
    "266d213665ac400580d2149aa8f99e59": {
     "model_module": "@jupyter-widgets/base",
     "model_module_version": "1.2.0",
     "model_name": "LayoutModel",
     "state": {
      "_model_module": "@jupyter-widgets/base",
      "_model_module_version": "1.2.0",
      "_model_name": "LayoutModel",
      "_view_count": null,
      "_view_module": "@jupyter-widgets/base",
      "_view_module_version": "1.2.0",
      "_view_name": "LayoutView",
      "align_content": null,
      "align_items": null,
      "align_self": null,
      "border": null,
      "bottom": null,
      "display": null,
      "flex": null,
      "flex_flow": null,
      "grid_area": null,
      "grid_auto_columns": null,
      "grid_auto_flow": null,
      "grid_auto_rows": null,
      "grid_column": null,
      "grid_gap": null,
      "grid_row": null,
      "grid_template_areas": null,
      "grid_template_columns": null,
      "grid_template_rows": null,
      "height": null,
      "justify_content": null,
      "justify_items": null,
      "left": null,
      "margin": null,
      "max_height": null,
      "max_width": null,
      "min_height": null,
      "min_width": null,
      "object_fit": null,
      "object_position": null,
      "order": null,
      "overflow": null,
      "overflow_x": null,
      "overflow_y": null,
      "padding": null,
      "right": null,
      "top": null,
      "visibility": null,
      "width": null
     }
    },
    "284313a5b51d4ab5aa3061abd35a3333": {
     "model_module": "@jupyter-widgets/controls",
     "model_module_version": "1.5.0",
     "model_name": "HTMLModel",
     "state": {
      "_dom_classes": [],
      "_model_module": "@jupyter-widgets/controls",
      "_model_module_version": "1.5.0",
      "_model_name": "HTMLModel",
      "_view_count": null,
      "_view_module": "@jupyter-widgets/controls",
      "_view_module_version": "1.5.0",
      "_view_name": "HTMLView",
      "description": "",
      "description_tooltip": null,
      "layout": "IPY_MODEL_7ff89741832449908bc992fccc12973e",
      "placeholder": "​",
      "style": "IPY_MODEL_d3dc5ee256f84091be2b5fe400d350c1",
      "value": ""
     }
    },
    "29a99a3a8ea14d9282ed4a91e5833136": {
     "model_module": "@jupyter-widgets/base",
     "model_module_version": "1.2.0",
     "model_name": "LayoutModel",
     "state": {
      "_model_module": "@jupyter-widgets/base",
      "_model_module_version": "1.2.0",
      "_model_name": "LayoutModel",
      "_view_count": null,
      "_view_module": "@jupyter-widgets/base",
      "_view_module_version": "1.2.0",
      "_view_name": "LayoutView",
      "align_content": null,
      "align_items": null,
      "align_self": null,
      "border": null,
      "bottom": null,
      "display": null,
      "flex": null,
      "flex_flow": null,
      "grid_area": null,
      "grid_auto_columns": null,
      "grid_auto_flow": null,
      "grid_auto_rows": null,
      "grid_column": null,
      "grid_gap": null,
      "grid_row": null,
      "grid_template_areas": null,
      "grid_template_columns": null,
      "grid_template_rows": null,
      "height": null,
      "justify_content": null,
      "justify_items": null,
      "left": null,
      "margin": null,
      "max_height": null,
      "max_width": null,
      "min_height": null,
      "min_width": null,
      "object_fit": null,
      "object_position": null,
      "order": null,
      "overflow": null,
      "overflow_x": null,
      "overflow_y": null,
      "padding": null,
      "right": null,
      "top": null,
      "visibility": null,
      "width": "20px"
     }
    },
    "2cd5ea6d3cc74a5fa5418c145a5853de": {
     "model_module": "@jupyter-widgets/controls",
     "model_module_version": "1.5.0",
     "model_name": "HTMLModel",
     "state": {
      "_dom_classes": [],
      "_model_module": "@jupyter-widgets/controls",
      "_model_module_version": "1.5.0",
      "_model_name": "HTMLModel",
      "_view_count": null,
      "_view_module": "@jupyter-widgets/controls",
      "_view_module_version": "1.5.0",
      "_view_name": "HTMLView",
      "description": "",
      "description_tooltip": null,
      "layout": "IPY_MODEL_2fd85232d3474d4391d18a0b38ac1ec9",
      "placeholder": "​",
      "style": "IPY_MODEL_0b05ae06c9df46b6bd88bf15cdc946c2",
      "value": " 570/570 [00:00&lt;00:00, 24.4kB/s]"
     }
    },
    "2fd85232d3474d4391d18a0b38ac1ec9": {
     "model_module": "@jupyter-widgets/base",
     "model_module_version": "1.2.0",
     "model_name": "LayoutModel",
     "state": {
      "_model_module": "@jupyter-widgets/base",
      "_model_module_version": "1.2.0",
      "_model_name": "LayoutModel",
      "_view_count": null,
      "_view_module": "@jupyter-widgets/base",
      "_view_module_version": "1.2.0",
      "_view_name": "LayoutView",
      "align_content": null,
      "align_items": null,
      "align_self": null,
      "border": null,
      "bottom": null,
      "display": null,
      "flex": null,
      "flex_flow": null,
      "grid_area": null,
      "grid_auto_columns": null,
      "grid_auto_flow": null,
      "grid_auto_rows": null,
      "grid_column": null,
      "grid_gap": null,
      "grid_row": null,
      "grid_template_areas": null,
      "grid_template_columns": null,
      "grid_template_rows": null,
      "height": null,
      "justify_content": null,
      "justify_items": null,
      "left": null,
      "margin": null,
      "max_height": null,
      "max_width": null,
      "min_height": null,
      "min_width": null,
      "object_fit": null,
      "object_position": null,
      "order": null,
      "overflow": null,
      "overflow_x": null,
      "overflow_y": null,
      "padding": null,
      "right": null,
      "top": null,
      "visibility": null,
      "width": null
     }
    },
    "2fe69a9d37954de791331d587136316f": {
     "model_module": "@jupyter-widgets/controls",
     "model_module_version": "1.5.0",
     "model_name": "FloatProgressModel",
     "state": {
      "_dom_classes": [],
      "_model_module": "@jupyter-widgets/controls",
      "_model_module_version": "1.5.0",
      "_model_name": "FloatProgressModel",
      "_view_count": null,
      "_view_module": "@jupyter-widgets/controls",
      "_view_module_version": "1.5.0",
      "_view_name": "ProgressView",
      "bar_style": "success",
      "description": "",
      "description_tooltip": null,
      "layout": "IPY_MODEL_29a99a3a8ea14d9282ed4a91e5833136",
      "max": 1,
      "min": 0,
      "orientation": "horizontal",
      "style": "IPY_MODEL_73bf25a127c34d128e3675befff61384",
      "value": 0
     }
    },
    "30d74f28020e4713a2deb7b364781e5f": {
     "model_module": "@jupyter-widgets/controls",
     "model_module_version": "1.5.0",
     "model_name": "DescriptionStyleModel",
     "state": {
      "_model_module": "@jupyter-widgets/controls",
      "_model_module_version": "1.5.0",
      "_model_name": "DescriptionStyleModel",
      "_view_count": null,
      "_view_module": "@jupyter-widgets/base",
      "_view_module_version": "1.2.0",
      "_view_name": "StyleView",
      "description_width": ""
     }
    },
    "314fec1abf364f63af531a017657263c": {
     "model_module": "@jupyter-widgets/controls",
     "model_module_version": "1.5.0",
     "model_name": "HTMLModel",
     "state": {
      "_dom_classes": [],
      "_model_module": "@jupyter-widgets/controls",
      "_model_module_version": "1.5.0",
      "_model_name": "HTMLModel",
      "_view_count": null,
      "_view_module": "@jupyter-widgets/controls",
      "_view_module_version": "1.5.0",
      "_view_name": "HTMLView",
      "description": "",
      "description_tooltip": null,
      "layout": "IPY_MODEL_1bb47f902bb34d07b2f3f05ed92adbda",
      "placeholder": "​",
      "style": "IPY_MODEL_cc9e0b549bde4603bbdb7b7fb2aa90ea",
      "value": "(…)bert-base-uncased/resolve/main/vocab.txt: 100%"
     }
    },
    "4025595f03534994b473ecce80fabcc9": {
     "model_module": "@jupyter-widgets/controls",
     "model_module_version": "1.5.0",
     "model_name": "HTMLModel",
     "state": {
      "_dom_classes": [],
      "_model_module": "@jupyter-widgets/controls",
      "_model_module_version": "1.5.0",
      "_model_name": "HTMLModel",
      "_view_count": null,
      "_view_module": "@jupyter-widgets/controls",
      "_view_module_version": "1.5.0",
      "_view_name": "HTMLView",
      "description": "",
      "description_tooltip": null,
      "layout": "IPY_MODEL_a2620dac7f0446e5b494856ed4d3f0f5",
      "placeholder": "​",
      "style": "IPY_MODEL_7f4345f812b1420da95269bc8c8b798b",
      "value": "(…)cased/resolve/main/tokenizer_config.json: 100%"
     }
    },
    "494b235189164874809b3e4cce453269": {
     "model_module": "@jupyter-widgets/controls",
     "model_module_version": "1.5.0",
     "model_name": "HTMLModel",
     "state": {
      "_dom_classes": [],
      "_model_module": "@jupyter-widgets/controls",
      "_model_module_version": "1.5.0",
      "_model_name": "HTMLModel",
      "_view_count": null,
      "_view_module": "@jupyter-widgets/controls",
      "_view_module_version": "1.5.0",
      "_view_name": "HTMLView",
      "description": "",
      "description_tooltip": null,
      "layout": "IPY_MODEL_72d0d15d84194f46b4cb826ab6f1fd0c",
      "placeholder": "​",
      "style": "IPY_MODEL_7078b0d68ce64a289c44331df2c1fe25",
      "value": " 0/0 [00:00&lt;?, ?it/s]"
     }
    },
    "4abd74a3a87c44f78aa2ca4f4a94ab4e": {
     "model_module": "@jupyter-widgets/controls",
     "model_module_version": "1.5.0",
     "model_name": "FloatProgressModel",
     "state": {
      "_dom_classes": [],
      "_model_module": "@jupyter-widgets/controls",
      "_model_module_version": "1.5.0",
      "_model_name": "FloatProgressModel",
      "_view_count": null,
      "_view_module": "@jupyter-widgets/controls",
      "_view_module_version": "1.5.0",
      "_view_name": "ProgressView",
      "bar_style": "success",
      "description": "",
      "description_tooltip": null,
      "layout": "IPY_MODEL_5a391e9dfe8c4b0c80cdf094588ef8b5",
      "max": 28,
      "min": 0,
      "orientation": "horizontal",
      "style": "IPY_MODEL_1d1e86e3932c49bfa26cb794cbd715ee",
      "value": 28
     }
    },
    "50b5554e3921442d9cb01c0bc0f08e7b": {
     "model_module": "@jupyter-widgets/controls",
     "model_module_version": "1.5.0",
     "model_name": "HTMLModel",
     "state": {
      "_dom_classes": [],
      "_model_module": "@jupyter-widgets/controls",
      "_model_module_version": "1.5.0",
      "_model_name": "HTMLModel",
      "_view_count": null,
      "_view_module": "@jupyter-widgets/controls",
      "_view_module_version": "1.5.0",
      "_view_name": "HTMLView",
      "description": "",
      "description_tooltip": null,
      "layout": "IPY_MODEL_8bf049de3723473fa087d81290a99c2b",
      "placeholder": "​",
      "style": "IPY_MODEL_1f9e1976a2684b1b8c848df2314bee07",
      "value": " 28.0/28.0 [00:00&lt;00:00, 283B/s]"
     }
    },
    "546d1d6e72ed42249823018431eaf6aa": {
     "model_module": "@jupyter-widgets/base",
     "model_module_version": "1.2.0",
     "model_name": "LayoutModel",
     "state": {
      "_model_module": "@jupyter-widgets/base",
      "_model_module_version": "1.2.0",
      "_model_name": "LayoutModel",
      "_view_count": null,
      "_view_module": "@jupyter-widgets/base",
      "_view_module_version": "1.2.0",
      "_view_name": "LayoutView",
      "align_content": null,
      "align_items": null,
      "align_self": null,
      "border": null,
      "bottom": null,
      "display": null,
      "flex": null,
      "flex_flow": null,
      "grid_area": null,
      "grid_auto_columns": null,
      "grid_auto_flow": null,
      "grid_auto_rows": null,
      "grid_column": null,
      "grid_gap": null,
      "grid_row": null,
      "grid_template_areas": null,
      "grid_template_columns": null,
      "grid_template_rows": null,
      "height": null,
      "justify_content": null,
      "justify_items": null,
      "left": null,
      "margin": null,
      "max_height": null,
      "max_width": null,
      "min_height": null,
      "min_width": null,
      "object_fit": null,
      "object_position": null,
      "order": null,
      "overflow": null,
      "overflow_x": null,
      "overflow_y": null,
      "padding": null,
      "right": null,
      "top": null,
      "visibility": null,
      "width": null
     }
    },
    "54a82e402975449aa396c8a43e4b26fb": {
     "model_module": "@jupyter-widgets/controls",
     "model_module_version": "1.5.0",
     "model_name": "ProgressStyleModel",
     "state": {
      "_model_module": "@jupyter-widgets/controls",
      "_model_module_version": "1.5.0",
      "_model_name": "ProgressStyleModel",
      "_view_count": null,
      "_view_module": "@jupyter-widgets/base",
      "_view_module_version": "1.2.0",
      "_view_name": "StyleView",
      "bar_color": null,
      "description_width": ""
     }
    },
    "5a391e9dfe8c4b0c80cdf094588ef8b5": {
     "model_module": "@jupyter-widgets/base",
     "model_module_version": "1.2.0",
     "model_name": "LayoutModel",
     "state": {
      "_model_module": "@jupyter-widgets/base",
      "_model_module_version": "1.2.0",
      "_model_name": "LayoutModel",
      "_view_count": null,
      "_view_module": "@jupyter-widgets/base",
      "_view_module_version": "1.2.0",
      "_view_name": "LayoutView",
      "align_content": null,
      "align_items": null,
      "align_self": null,
      "border": null,
      "bottom": null,
      "display": null,
      "flex": null,
      "flex_flow": null,
      "grid_area": null,
      "grid_auto_columns": null,
      "grid_auto_flow": null,
      "grid_auto_rows": null,
      "grid_column": null,
      "grid_gap": null,
      "grid_row": null,
      "grid_template_areas": null,
      "grid_template_columns": null,
      "grid_template_rows": null,
      "height": null,
      "justify_content": null,
      "justify_items": null,
      "left": null,
      "margin": null,
      "max_height": null,
      "max_width": null,
      "min_height": null,
      "min_width": null,
      "object_fit": null,
      "object_position": null,
      "order": null,
      "overflow": null,
      "overflow_x": null,
      "overflow_y": null,
      "padding": null,
      "right": null,
      "top": null,
      "visibility": null,
      "width": null
     }
    },
    "5e3703f9f7884887b56437c37b0d0e08": {
     "model_module": "@jupyter-widgets/controls",
     "model_module_version": "1.5.0",
     "model_name": "HBoxModel",
     "state": {
      "_dom_classes": [],
      "_model_module": "@jupyter-widgets/controls",
      "_model_module_version": "1.5.0",
      "_model_name": "HBoxModel",
      "_view_count": null,
      "_view_module": "@jupyter-widgets/controls",
      "_view_module_version": "1.5.0",
      "_view_name": "HBoxView",
      "box_style": "",
      "children": [
       "IPY_MODEL_314fec1abf364f63af531a017657263c",
       "IPY_MODEL_0f7df1642b574bcdbcad2a869baa2d6e",
       "IPY_MODEL_bee727af5d9a4720af2e60e8fb5bd721"
      ],
      "layout": "IPY_MODEL_ab69741dce8c4724a1063a0193a0ad84"
     }
    },
    "7078b0d68ce64a289c44331df2c1fe25": {
     "model_module": "@jupyter-widgets/controls",
     "model_module_version": "1.5.0",
     "model_name": "DescriptionStyleModel",
     "state": {
      "_model_module": "@jupyter-widgets/controls",
      "_model_module_version": "1.5.0",
      "_model_name": "DescriptionStyleModel",
      "_view_count": null,
      "_view_module": "@jupyter-widgets/base",
      "_view_module_version": "1.2.0",
      "_view_name": "StyleView",
      "description_width": ""
     }
    },
    "72d0d15d84194f46b4cb826ab6f1fd0c": {
     "model_module": "@jupyter-widgets/base",
     "model_module_version": "1.2.0",
     "model_name": "LayoutModel",
     "state": {
      "_model_module": "@jupyter-widgets/base",
      "_model_module_version": "1.2.0",
      "_model_name": "LayoutModel",
      "_view_count": null,
      "_view_module": "@jupyter-widgets/base",
      "_view_module_version": "1.2.0",
      "_view_name": "LayoutView",
      "align_content": null,
      "align_items": null,
      "align_self": null,
      "border": null,
      "bottom": null,
      "display": null,
      "flex": null,
      "flex_flow": null,
      "grid_area": null,
      "grid_auto_columns": null,
      "grid_auto_flow": null,
      "grid_auto_rows": null,
      "grid_column": null,
      "grid_gap": null,
      "grid_row": null,
      "grid_template_areas": null,
      "grid_template_columns": null,
      "grid_template_rows": null,
      "height": null,
      "justify_content": null,
      "justify_items": null,
      "left": null,
      "margin": null,
      "max_height": null,
      "max_width": null,
      "min_height": null,
      "min_width": null,
      "object_fit": null,
      "object_position": null,
      "order": null,
      "overflow": null,
      "overflow_x": null,
      "overflow_y": null,
      "padding": null,
      "right": null,
      "top": null,
      "visibility": null,
      "width": null
     }
    },
    "73bf25a127c34d128e3675befff61384": {
     "model_module": "@jupyter-widgets/controls",
     "model_module_version": "1.5.0",
     "model_name": "ProgressStyleModel",
     "state": {
      "_model_module": "@jupyter-widgets/controls",
      "_model_module_version": "1.5.0",
      "_model_name": "ProgressStyleModel",
      "_view_count": null,
      "_view_module": "@jupyter-widgets/base",
      "_view_module_version": "1.2.0",
      "_view_name": "StyleView",
      "bar_color": null,
      "description_width": ""
     }
    },
    "7f4345f812b1420da95269bc8c8b798b": {
     "model_module": "@jupyter-widgets/controls",
     "model_module_version": "1.5.0",
     "model_name": "DescriptionStyleModel",
     "state": {
      "_model_module": "@jupyter-widgets/controls",
      "_model_module_version": "1.5.0",
      "_model_name": "DescriptionStyleModel",
      "_view_count": null,
      "_view_module": "@jupyter-widgets/base",
      "_view_module_version": "1.2.0",
      "_view_name": "StyleView",
      "description_width": ""
     }
    },
    "7ff89741832449908bc992fccc12973e": {
     "model_module": "@jupyter-widgets/base",
     "model_module_version": "1.2.0",
     "model_name": "LayoutModel",
     "state": {
      "_model_module": "@jupyter-widgets/base",
      "_model_module_version": "1.2.0",
      "_model_name": "LayoutModel",
      "_view_count": null,
      "_view_module": "@jupyter-widgets/base",
      "_view_module_version": "1.2.0",
      "_view_name": "LayoutView",
      "align_content": null,
      "align_items": null,
      "align_self": null,
      "border": null,
      "bottom": null,
      "display": null,
      "flex": null,
      "flex_flow": null,
      "grid_area": null,
      "grid_auto_columns": null,
      "grid_auto_flow": null,
      "grid_auto_rows": null,
      "grid_column": null,
      "grid_gap": null,
      "grid_row": null,
      "grid_template_areas": null,
      "grid_template_columns": null,
      "grid_template_rows": null,
      "height": null,
      "justify_content": null,
      "justify_items": null,
      "left": null,
      "margin": null,
      "max_height": null,
      "max_width": null,
      "min_height": null,
      "min_width": null,
      "object_fit": null,
      "object_position": null,
      "order": null,
      "overflow": null,
      "overflow_x": null,
      "overflow_y": null,
      "padding": null,
      "right": null,
      "top": null,
      "visibility": null,
      "width": null
     }
    },
    "82f2341df3d943d2a5f8c81c0dd03681": {
     "model_module": "@jupyter-widgets/controls",
     "model_module_version": "1.5.0",
     "model_name": "HBoxModel",
     "state": {
      "_dom_classes": [],
      "_model_module": "@jupyter-widgets/controls",
      "_model_module_version": "1.5.0",
      "_model_name": "HBoxModel",
      "_view_count": null,
      "_view_module": "@jupyter-widgets/controls",
      "_view_module_version": "1.5.0",
      "_view_name": "HBoxView",
      "box_style": "",
      "children": [
       "IPY_MODEL_4025595f03534994b473ecce80fabcc9",
       "IPY_MODEL_4abd74a3a87c44f78aa2ca4f4a94ab4e",
       "IPY_MODEL_50b5554e3921442d9cb01c0bc0f08e7b"
      ],
      "layout": "IPY_MODEL_8983bc0157d047e3a641674bc9638758"
     }
    },
    "892b8aaae0d5432c8fa4ede17add0efb": {
     "model_module": "@jupyter-widgets/base",
     "model_module_version": "1.2.0",
     "model_name": "LayoutModel",
     "state": {
      "_model_module": "@jupyter-widgets/base",
      "_model_module_version": "1.2.0",
      "_model_name": "LayoutModel",
      "_view_count": null,
      "_view_module": "@jupyter-widgets/base",
      "_view_module_version": "1.2.0",
      "_view_name": "LayoutView",
      "align_content": null,
      "align_items": null,
      "align_self": null,
      "border": null,
      "bottom": null,
      "display": null,
      "flex": null,
      "flex_flow": null,
      "grid_area": null,
      "grid_auto_columns": null,
      "grid_auto_flow": null,
      "grid_auto_rows": null,
      "grid_column": null,
      "grid_gap": null,
      "grid_row": null,
      "grid_template_areas": null,
      "grid_template_columns": null,
      "grid_template_rows": null,
      "height": null,
      "justify_content": null,
      "justify_items": null,
      "left": null,
      "margin": null,
      "max_height": null,
      "max_width": null,
      "min_height": null,
      "min_width": null,
      "object_fit": null,
      "object_position": null,
      "order": null,
      "overflow": null,
      "overflow_x": null,
      "overflow_y": null,
      "padding": null,
      "right": null,
      "top": null,
      "visibility": null,
      "width": null
     }
    },
    "8983bc0157d047e3a641674bc9638758": {
     "model_module": "@jupyter-widgets/base",
     "model_module_version": "1.2.0",
     "model_name": "LayoutModel",
     "state": {
      "_model_module": "@jupyter-widgets/base",
      "_model_module_version": "1.2.0",
      "_model_name": "LayoutModel",
      "_view_count": null,
      "_view_module": "@jupyter-widgets/base",
      "_view_module_version": "1.2.0",
      "_view_name": "LayoutView",
      "align_content": null,
      "align_items": null,
      "align_self": null,
      "border": null,
      "bottom": null,
      "display": null,
      "flex": null,
      "flex_flow": null,
      "grid_area": null,
      "grid_auto_columns": null,
      "grid_auto_flow": null,
      "grid_auto_rows": null,
      "grid_column": null,
      "grid_gap": null,
      "grid_row": null,
      "grid_template_areas": null,
      "grid_template_columns": null,
      "grid_template_rows": null,
      "height": null,
      "justify_content": null,
      "justify_items": null,
      "left": null,
      "margin": null,
      "max_height": null,
      "max_width": null,
      "min_height": null,
      "min_width": null,
      "object_fit": null,
      "object_position": null,
      "order": null,
      "overflow": null,
      "overflow_x": null,
      "overflow_y": null,
      "padding": null,
      "right": null,
      "top": null,
      "visibility": null,
      "width": null
     }
    },
    "898b88771c6644b5b2d9cf3dfa76b483": {
     "model_module": "@jupyter-widgets/controls",
     "model_module_version": "1.5.0",
     "model_name": "HBoxModel",
     "state": {
      "_dom_classes": [],
      "_model_module": "@jupyter-widgets/controls",
      "_model_module_version": "1.5.0",
      "_model_name": "HBoxModel",
      "_view_count": null,
      "_view_module": "@jupyter-widgets/controls",
      "_view_module_version": "1.5.0",
      "_view_name": "HBoxView",
      "box_style": "",
      "children": [
       "IPY_MODEL_284313a5b51d4ab5aa3061abd35a3333",
       "IPY_MODEL_2fe69a9d37954de791331d587136316f",
       "IPY_MODEL_494b235189164874809b3e4cce453269"
      ],
      "layout": "IPY_MODEL_92ad9b0785a946e99ee9275a2a403fbe"
     }
    },
    "8bf049de3723473fa087d81290a99c2b": {
     "model_module": "@jupyter-widgets/base",
     "model_module_version": "1.2.0",
     "model_name": "LayoutModel",
     "state": {
      "_model_module": "@jupyter-widgets/base",
      "_model_module_version": "1.2.0",
      "_model_name": "LayoutModel",
      "_view_count": null,
      "_view_module": "@jupyter-widgets/base",
      "_view_module_version": "1.2.0",
      "_view_name": "LayoutView",
      "align_content": null,
      "align_items": null,
      "align_self": null,
      "border": null,
      "bottom": null,
      "display": null,
      "flex": null,
      "flex_flow": null,
      "grid_area": null,
      "grid_auto_columns": null,
      "grid_auto_flow": null,
      "grid_auto_rows": null,
      "grid_column": null,
      "grid_gap": null,
      "grid_row": null,
      "grid_template_areas": null,
      "grid_template_columns": null,
      "grid_template_rows": null,
      "height": null,
      "justify_content": null,
      "justify_items": null,
      "left": null,
      "margin": null,
      "max_height": null,
      "max_width": null,
      "min_height": null,
      "min_width": null,
      "object_fit": null,
      "object_position": null,
      "order": null,
      "overflow": null,
      "overflow_x": null,
      "overflow_y": null,
      "padding": null,
      "right": null,
      "top": null,
      "visibility": null,
      "width": null
     }
    },
    "92ad9b0785a946e99ee9275a2a403fbe": {
     "model_module": "@jupyter-widgets/base",
     "model_module_version": "1.2.0",
     "model_name": "LayoutModel",
     "state": {
      "_model_module": "@jupyter-widgets/base",
      "_model_module_version": "1.2.0",
      "_model_name": "LayoutModel",
      "_view_count": null,
      "_view_module": "@jupyter-widgets/base",
      "_view_module_version": "1.2.0",
      "_view_name": "LayoutView",
      "align_content": null,
      "align_items": null,
      "align_self": null,
      "border": null,
      "bottom": null,
      "display": null,
      "flex": null,
      "flex_flow": null,
      "grid_area": null,
      "grid_auto_columns": null,
      "grid_auto_flow": null,
      "grid_auto_rows": null,
      "grid_column": null,
      "grid_gap": null,
      "grid_row": null,
      "grid_template_areas": null,
      "grid_template_columns": null,
      "grid_template_rows": null,
      "height": null,
      "justify_content": null,
      "justify_items": null,
      "left": null,
      "margin": null,
      "max_height": null,
      "max_width": null,
      "min_height": null,
      "min_width": null,
      "object_fit": null,
      "object_position": null,
      "order": null,
      "overflow": null,
      "overflow_x": null,
      "overflow_y": null,
      "padding": null,
      "right": null,
      "top": null,
      "visibility": null,
      "width": null
     }
    },
    "a2620dac7f0446e5b494856ed4d3f0f5": {
     "model_module": "@jupyter-widgets/base",
     "model_module_version": "1.2.0",
     "model_name": "LayoutModel",
     "state": {
      "_model_module": "@jupyter-widgets/base",
      "_model_module_version": "1.2.0",
      "_model_name": "LayoutModel",
      "_view_count": null,
      "_view_module": "@jupyter-widgets/base",
      "_view_module_version": "1.2.0",
      "_view_name": "LayoutView",
      "align_content": null,
      "align_items": null,
      "align_self": null,
      "border": null,
      "bottom": null,
      "display": null,
      "flex": null,
      "flex_flow": null,
      "grid_area": null,
      "grid_auto_columns": null,
      "grid_auto_flow": null,
      "grid_auto_rows": null,
      "grid_column": null,
      "grid_gap": null,
      "grid_row": null,
      "grid_template_areas": null,
      "grid_template_columns": null,
      "grid_template_rows": null,
      "height": null,
      "justify_content": null,
      "justify_items": null,
      "left": null,
      "margin": null,
      "max_height": null,
      "max_width": null,
      "min_height": null,
      "min_width": null,
      "object_fit": null,
      "object_position": null,
      "order": null,
      "overflow": null,
      "overflow_x": null,
      "overflow_y": null,
      "padding": null,
      "right": null,
      "top": null,
      "visibility": null,
      "width": null
     }
    },
    "a86e4159a0db40a6b489d5b77b1a4fab": {
     "model_module": "@jupyter-widgets/base",
     "model_module_version": "1.2.0",
     "model_name": "LayoutModel",
     "state": {
      "_model_module": "@jupyter-widgets/base",
      "_model_module_version": "1.2.0",
      "_model_name": "LayoutModel",
      "_view_count": null,
      "_view_module": "@jupyter-widgets/base",
      "_view_module_version": "1.2.0",
      "_view_name": "LayoutView",
      "align_content": null,
      "align_items": null,
      "align_self": null,
      "border": null,
      "bottom": null,
      "display": null,
      "flex": null,
      "flex_flow": null,
      "grid_area": null,
      "grid_auto_columns": null,
      "grid_auto_flow": null,
      "grid_auto_rows": null,
      "grid_column": null,
      "grid_gap": null,
      "grid_row": null,
      "grid_template_areas": null,
      "grid_template_columns": null,
      "grid_template_rows": null,
      "height": null,
      "justify_content": null,
      "justify_items": null,
      "left": null,
      "margin": null,
      "max_height": null,
      "max_width": null,
      "min_height": null,
      "min_width": null,
      "object_fit": null,
      "object_position": null,
      "order": null,
      "overflow": null,
      "overflow_x": null,
      "overflow_y": null,
      "padding": null,
      "right": null,
      "top": null,
      "visibility": null,
      "width": null
     }
    },
    "ab69741dce8c4724a1063a0193a0ad84": {
     "model_module": "@jupyter-widgets/base",
     "model_module_version": "1.2.0",
     "model_name": "LayoutModel",
     "state": {
      "_model_module": "@jupyter-widgets/base",
      "_model_module_version": "1.2.0",
      "_model_name": "LayoutModel",
      "_view_count": null,
      "_view_module": "@jupyter-widgets/base",
      "_view_module_version": "1.2.0",
      "_view_name": "LayoutView",
      "align_content": null,
      "align_items": null,
      "align_self": null,
      "border": null,
      "bottom": null,
      "display": null,
      "flex": null,
      "flex_flow": null,
      "grid_area": null,
      "grid_auto_columns": null,
      "grid_auto_flow": null,
      "grid_auto_rows": null,
      "grid_column": null,
      "grid_gap": null,
      "grid_row": null,
      "grid_template_areas": null,
      "grid_template_columns": null,
      "grid_template_rows": null,
      "height": null,
      "justify_content": null,
      "justify_items": null,
      "left": null,
      "margin": null,
      "max_height": null,
      "max_width": null,
      "min_height": null,
      "min_width": null,
      "object_fit": null,
      "object_position": null,
      "order": null,
      "overflow": null,
      "overflow_x": null,
      "overflow_y": null,
      "padding": null,
      "right": null,
      "top": null,
      "visibility": null,
      "width": null
     }
    },
    "b0245701242d4d78a1e8923704d29292": {
     "model_module": "@jupyter-widgets/base",
     "model_module_version": "1.2.0",
     "model_name": "LayoutModel",
     "state": {
      "_model_module": "@jupyter-widgets/base",
      "_model_module_version": "1.2.0",
      "_model_name": "LayoutModel",
      "_view_count": null,
      "_view_module": "@jupyter-widgets/base",
      "_view_module_version": "1.2.0",
      "_view_name": "LayoutView",
      "align_content": null,
      "align_items": null,
      "align_self": null,
      "border": null,
      "bottom": null,
      "display": null,
      "flex": null,
      "flex_flow": null,
      "grid_area": null,
      "grid_auto_columns": null,
      "grid_auto_flow": null,
      "grid_auto_rows": null,
      "grid_column": null,
      "grid_gap": null,
      "grid_row": null,
      "grid_template_areas": null,
      "grid_template_columns": null,
      "grid_template_rows": null,
      "height": null,
      "justify_content": null,
      "justify_items": null,
      "left": null,
      "margin": null,
      "max_height": null,
      "max_width": null,
      "min_height": null,
      "min_width": null,
      "object_fit": null,
      "object_position": null,
      "order": null,
      "overflow": null,
      "overflow_x": null,
      "overflow_y": null,
      "padding": null,
      "right": null,
      "top": null,
      "visibility": null,
      "width": null
     }
    },
    "bee727af5d9a4720af2e60e8fb5bd721": {
     "model_module": "@jupyter-widgets/controls",
     "model_module_version": "1.5.0",
     "model_name": "HTMLModel",
     "state": {
      "_dom_classes": [],
      "_model_module": "@jupyter-widgets/controls",
      "_model_module_version": "1.5.0",
      "_model_name": "HTMLModel",
      "_view_count": null,
      "_view_module": "@jupyter-widgets/controls",
      "_view_module_version": "1.5.0",
      "_view_name": "HTMLView",
      "description": "",
      "description_tooltip": null,
      "layout": "IPY_MODEL_892b8aaae0d5432c8fa4ede17add0efb",
      "placeholder": "​",
      "style": "IPY_MODEL_30d74f28020e4713a2deb7b364781e5f",
      "value": " 232k/232k [00:00&lt;00:00, 1.50MB/s]"
     }
    },
    "c499420fe6c54d9a9b5b079037e51cbf": {
     "model_module": "@jupyter-widgets/controls",
     "model_module_version": "1.5.0",
     "model_name": "HTMLModel",
     "state": {
      "_dom_classes": [],
      "_model_module": "@jupyter-widgets/controls",
      "_model_module_version": "1.5.0",
      "_model_name": "HTMLModel",
      "_view_count": null,
      "_view_module": "@jupyter-widgets/controls",
      "_view_module_version": "1.5.0",
      "_view_name": "HTMLView",
      "description": "",
      "description_tooltip": null,
      "layout": "IPY_MODEL_266d213665ac400580d2149aa8f99e59",
      "placeholder": "​",
      "style": "IPY_MODEL_19b0cc72217f4660a5f549c18303de01",
      "value": "(…)rt-base-uncased/resolve/main/config.json: 100%"
     }
    },
    "cc9e0b549bde4603bbdb7b7fb2aa90ea": {
     "model_module": "@jupyter-widgets/controls",
     "model_module_version": "1.5.0",
     "model_name": "DescriptionStyleModel",
     "state": {
      "_model_module": "@jupyter-widgets/controls",
      "_model_module_version": "1.5.0",
      "_model_name": "DescriptionStyleModel",
      "_view_count": null,
      "_view_module": "@jupyter-widgets/base",
      "_view_module_version": "1.2.0",
      "_view_name": "StyleView",
      "description_width": ""
     }
    },
    "d3dc5ee256f84091be2b5fe400d350c1": {
     "model_module": "@jupyter-widgets/controls",
     "model_module_version": "1.5.0",
     "model_name": "DescriptionStyleModel",
     "state": {
      "_model_module": "@jupyter-widgets/controls",
      "_model_module_version": "1.5.0",
      "_model_name": "DescriptionStyleModel",
      "_view_count": null,
      "_view_module": "@jupyter-widgets/base",
      "_view_module_version": "1.2.0",
      "_view_name": "StyleView",
      "description_width": ""
     }
    },
    "d902463228044d63943d787fa5701673": {
     "model_module": "@jupyter-widgets/controls",
     "model_module_version": "1.5.0",
     "model_name": "HBoxModel",
     "state": {
      "_dom_classes": [],
      "_model_module": "@jupyter-widgets/controls",
      "_model_module_version": "1.5.0",
      "_model_name": "HBoxModel",
      "_view_count": null,
      "_view_module": "@jupyter-widgets/controls",
      "_view_module_version": "1.5.0",
      "_view_name": "HBoxView",
      "box_style": "",
      "children": [
       "IPY_MODEL_c499420fe6c54d9a9b5b079037e51cbf",
       "IPY_MODEL_d9ac074657ae447194431b73700b1e4e",
       "IPY_MODEL_2cd5ea6d3cc74a5fa5418c145a5853de"
      ],
      "layout": "IPY_MODEL_546d1d6e72ed42249823018431eaf6aa"
     }
    },
    "d9ac074657ae447194431b73700b1e4e": {
     "model_module": "@jupyter-widgets/controls",
     "model_module_version": "1.5.0",
     "model_name": "FloatProgressModel",
     "state": {
      "_dom_classes": [],
      "_model_module": "@jupyter-widgets/controls",
      "_model_module_version": "1.5.0",
      "_model_name": "FloatProgressModel",
      "_view_count": null,
      "_view_module": "@jupyter-widgets/controls",
      "_view_module_version": "1.5.0",
      "_view_name": "ProgressView",
      "bar_style": "success",
      "description": "",
      "description_tooltip": null,
      "layout": "IPY_MODEL_b0245701242d4d78a1e8923704d29292",
      "max": 570,
      "min": 0,
      "orientation": "horizontal",
      "style": "IPY_MODEL_54a82e402975449aa396c8a43e4b26fb",
      "value": 570
     }
    }
   }
  }
 },
 "nbformat": 4,
 "nbformat_minor": 5
}
